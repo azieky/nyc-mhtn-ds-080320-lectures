{
 "cells": [
  {
   "cell_type": "markdown",
   "metadata": {},
   "source": [
    "# JSON and APIs\n",
    "\n",
    "_August 11, 2020_\n",
    "\n",
    "Agenda today:\n",
    "- Introduction to API and Remote Server Model \n",
    "- Getting data through an API:\n",
    "    - Github API\n",
    "    - Yelp API\n",
    "- Working with JSON files"
   ]
  },
  {
   "cell_type": "code",
   "execution_count": 1,
   "metadata": {},
   "outputs": [],
   "source": [
    "import pandas as pd\n",
    "import numpy as np\n",
    "import requests\n",
    "import json\n",
    "from yelp.client import Client\n",
    "import matplotlib.pyplot as plt\n",
    "plt.style.use('seaborn')"
   ]
  },
  {
   "cell_type": "markdown",
   "metadata": {},
   "source": [
    "## Part I. APIs and Remote Server Model\n",
    "API stands for Application Programming Interface. At some point or the other, large companies would build API for their products for their clients or internal use. It allows the company's application to communicate with another application. But what _exactly_ is an API?\n",
    "\n",
    "#### Remote server \n",
    "When we think about the world of Web, we can think of it as a collection of _servers_. And servers are nothing but huge computers that store a huge amount of data from users and are optimized to process requests. For example, when you type in www.facebook.com, your browser sends a _request_ to the Facebook server, and gets a response from the server, thus interpreting the code and displaying your homepage. \n",
    "\n",
    "In this case, your browser is the _client_, and Facebook’s server is an API. To put it broadly, whenever you visit a website, you are interacting with its API. However, an API isn’t the same as the remote server — rather it is the part of the server that receives __requests__ and sends __responses__.\n",
    "\n",
    "<img src='status-code.png' width = 500>"
   ]
  },
  {
   "cell_type": "markdown",
   "metadata": {},
   "source": [
    "## Part II. Getting Data Through APIs\n",
    "\n",
    "#### Github API\n",
    "Github API is an example of API that does not need _authentication_. You can send `GET` requests to the API and receive information.  \n",
    "\n",
    "The `get()` method send a request to Github's API, and stored information in a variable called `request`. Next, let's see if it's successful. "
   ]
  },
  {
   "cell_type": "code",
   "execution_count": 2,
   "metadata": {},
   "outputs": [],
   "source": [
    "request = requests.get('https://api.github.com')"
   ]
  },
  {
   "cell_type": "code",
   "execution_count": 3,
   "metadata": {},
   "outputs": [
    {
     "data": {
      "text/plain": [
       "200"
      ]
     },
     "execution_count": 3,
     "metadata": {},
     "output_type": "execute_result"
    }
   ],
   "source": [
    "## status code\n",
    "request.status_code"
   ]
  },
  {
   "cell_type": "code",
   "execution_count": 4,
   "metadata": {},
   "outputs": [
    {
     "data": {
      "text/plain": [
       "'{\"current_user_url\":\"https://api.github.com/user\",\"current_user_authorizations_html_url\":\"https://github.com/settings/connections/applications{/client_id}\",\"authorizations_url\":\"https://api.github.com/authorizations\",\"code_search_url\":\"https://api.github.com/search/code?q={query}{&page,per_page,sort,order}\",\"commit_search_url\":\"https://api.github.com/search/commits?q={query}{&page,per_page,sort,order}\",\"emails_url\":\"https://api.github.com/user/emails\",\"emojis_url\":\"https://api.github.com/emojis\",\"events_url\":\"https://api.github.com/events\",\"feeds_url\":\"https://api.github.com/feeds\",\"followers_url\":\"https://api.github.com/user/followers\",\"following_url\":\"https://api.github.com/user/following{/target}\",\"gists_url\":\"https://api.github.com/gists{/gist_id}\",\"hub_url\":\"https://api.github.com/hub\",\"issue_search_url\":\"https://api.github.com/search/issues?q={query}{&page,per_page,sort,order}\",\"issues_url\":\"https://api.github.com/issues\",\"keys_url\":\"https://api.github.com/user/keys\",\"label_search_url\":\"https://api.github.com/search/labels?q={query}&repository_id={repository_id}{&page,per_page}\",\"notifications_url\":\"https://api.github.com/notifications\",\"organization_url\":\"https://api.github.com/orgs/{org}\",\"organization_repositories_url\":\"https://api.github.com/orgs/{org}/repos{?type,page,per_page,sort}\",\"organization_teams_url\":\"https://api.github.com/orgs/{org}/teams\",\"public_gists_url\":\"https://api.github.com/gists/public\",\"rate_limit_url\":\"https://api.github.com/rate_limit\",\"repository_url\":\"https://api.github.com/repos/{owner}/{repo}\",\"repository_search_url\":\"https://api.github.com/search/repositories?q={query}{&page,per_page,sort,order}\",\"current_user_repositories_url\":\"https://api.github.com/user/repos{?type,page,per_page,sort}\",\"starred_url\":\"https://api.github.com/user/starred{/owner}{/repo}\",\"starred_gists_url\":\"https://api.github.com/gists/starred\",\"user_url\":\"https://api.github.com/users/{user}\",\"user_organizations_url\":\"https://api.github.com/user/orgs\",\"user_repositories_url\":\"https://api.github.com/users/{user}/repos{?type,page,per_page,sort}\",\"user_search_url\":\"https://api.github.com/search/users?q={query}{&page,per_page,sort,order}\"}'"
      ]
     },
     "execution_count": 4,
     "metadata": {},
     "output_type": "execute_result"
    }
   ],
   "source": [
    "# examine the body of the request\n",
    "request.text"
   ]
  },
  {
   "cell_type": "code",
   "execution_count": 5,
   "metadata": {
    "scrolled": true
   },
   "outputs": [
    {
     "data": {
      "text/plain": [
       "b'{\"current_user_url\":\"https://api.github.com/user\",\"current_user_authorizations_html_url\":\"https://github.com/settings/connections/applications{/client_id}\",\"authorizations_url\":\"https://api.github.com/authorizations\",\"code_search_url\":\"https://api.github.com/search/code?q={query}{&page,per_page,sort,order}\",\"commit_search_url\":\"https://api.github.com/search/commits?q={query}{&page,per_page,sort,order}\",\"emails_url\":\"https://api.github.com/user/emails\",\"emojis_url\":\"https://api.github.com/emojis\",\"events_url\":\"https://api.github.com/events\",\"feeds_url\":\"https://api.github.com/feeds\",\"followers_url\":\"https://api.github.com/user/followers\",\"following_url\":\"https://api.github.com/user/following{/target}\",\"gists_url\":\"https://api.github.com/gists{/gist_id}\",\"hub_url\":\"https://api.github.com/hub\",\"issue_search_url\":\"https://api.github.com/search/issues?q={query}{&page,per_page,sort,order}\",\"issues_url\":\"https://api.github.com/issues\",\"keys_url\":\"https://api.github.com/user/keys\",\"label_search_url\":\"https://api.github.com/search/labels?q={query}&repository_id={repository_id}{&page,per_page}\",\"notifications_url\":\"https://api.github.com/notifications\",\"organization_url\":\"https://api.github.com/orgs/{org}\",\"organization_repositories_url\":\"https://api.github.com/orgs/{org}/repos{?type,page,per_page,sort}\",\"organization_teams_url\":\"https://api.github.com/orgs/{org}/teams\",\"public_gists_url\":\"https://api.github.com/gists/public\",\"rate_limit_url\":\"https://api.github.com/rate_limit\",\"repository_url\":\"https://api.github.com/repos/{owner}/{repo}\",\"repository_search_url\":\"https://api.github.com/search/repositories?q={query}{&page,per_page,sort,order}\",\"current_user_repositories_url\":\"https://api.github.com/user/repos{?type,page,per_page,sort}\",\"starred_url\":\"https://api.github.com/user/starred{/owner}{/repo}\",\"starred_gists_url\":\"https://api.github.com/gists/starred\",\"user_url\":\"https://api.github.com/users/{user}\",\"user_organizations_url\":\"https://api.github.com/user/orgs\",\"user_repositories_url\":\"https://api.github.com/users/{user}/repos{?type,page,per_page,sort}\",\"user_search_url\":\"https://api.github.com/search/users?q={query}{&page,per_page,sort,order}\"}'"
      ]
     },
     "execution_count": 5,
     "metadata": {},
     "output_type": "execute_result"
    }
   ],
   "source": [
    "# examine the content\n",
    "request.content"
   ]
  },
  {
   "cell_type": "code",
   "execution_count": null,
   "metadata": {},
   "outputs": [],
   "source": []
  },
  {
   "cell_type": "code",
   "execution_count": 6,
   "metadata": {},
   "outputs": [
    {
     "data": {
      "text/plain": [
       "'GitHub.com'"
      ]
     },
     "execution_count": 6,
     "metadata": {},
     "output_type": "execute_result"
    }
   ],
   "source": [
    "# examine the headers\n",
    "request.headers['server']"
   ]
  },
  {
   "cell_type": "code",
   "execution_count": 7,
   "metadata": {},
   "outputs": [],
   "source": [
    "# we can make use of the JSON library to efficiently load the data and manipulate it \n",
    "request_json = json.loads(request.text)"
   ]
  },
  {
   "cell_type": "code",
   "execution_count": 8,
   "metadata": {
    "scrolled": true
   },
   "outputs": [
    {
     "data": {
      "text/plain": [
       "{'current_user_url': 'https://api.github.com/user',\n",
       " 'current_user_authorizations_html_url': 'https://github.com/settings/connections/applications{/client_id}',\n",
       " 'authorizations_url': 'https://api.github.com/authorizations',\n",
       " 'code_search_url': 'https://api.github.com/search/code?q={query}{&page,per_page,sort,order}',\n",
       " 'commit_search_url': 'https://api.github.com/search/commits?q={query}{&page,per_page,sort,order}',\n",
       " 'emails_url': 'https://api.github.com/user/emails',\n",
       " 'emojis_url': 'https://api.github.com/emojis',\n",
       " 'events_url': 'https://api.github.com/events',\n",
       " 'feeds_url': 'https://api.github.com/feeds',\n",
       " 'followers_url': 'https://api.github.com/user/followers',\n",
       " 'following_url': 'https://api.github.com/user/following{/target}',\n",
       " 'gists_url': 'https://api.github.com/gists{/gist_id}',\n",
       " 'hub_url': 'https://api.github.com/hub',\n",
       " 'issue_search_url': 'https://api.github.com/search/issues?q={query}{&page,per_page,sort,order}',\n",
       " 'issues_url': 'https://api.github.com/issues',\n",
       " 'keys_url': 'https://api.github.com/user/keys',\n",
       " 'label_search_url': 'https://api.github.com/search/labels?q={query}&repository_id={repository_id}{&page,per_page}',\n",
       " 'notifications_url': 'https://api.github.com/notifications',\n",
       " 'organization_url': 'https://api.github.com/orgs/{org}',\n",
       " 'organization_repositories_url': 'https://api.github.com/orgs/{org}/repos{?type,page,per_page,sort}',\n",
       " 'organization_teams_url': 'https://api.github.com/orgs/{org}/teams',\n",
       " 'public_gists_url': 'https://api.github.com/gists/public',\n",
       " 'rate_limit_url': 'https://api.github.com/rate_limit',\n",
       " 'repository_url': 'https://api.github.com/repos/{owner}/{repo}',\n",
       " 'repository_search_url': 'https://api.github.com/search/repositories?q={query}{&page,per_page,sort,order}',\n",
       " 'current_user_repositories_url': 'https://api.github.com/user/repos{?type,page,per_page,sort}',\n",
       " 'starred_url': 'https://api.github.com/user/starred{/owner}{/repo}',\n",
       " 'starred_gists_url': 'https://api.github.com/gists/starred',\n",
       " 'user_url': 'https://api.github.com/users/{user}',\n",
       " 'user_organizations_url': 'https://api.github.com/user/orgs',\n",
       " 'user_repositories_url': 'https://api.github.com/users/{user}/repos{?type,page,per_page,sort}',\n",
       " 'user_search_url': 'https://api.github.com/search/users?q={query}{&page,per_page,sort,order}'}"
      ]
     },
     "execution_count": 8,
     "metadata": {},
     "output_type": "execute_result"
    }
   ],
   "source": [
    "request_json"
   ]
  },
  {
   "cell_type": "code",
   "execution_count": 9,
   "metadata": {},
   "outputs": [
    {
     "name": "stdout",
     "output_type": "stream",
     "text": [
      "current_user_url\n",
      "current_user_authorizations_html_url\n",
      "authorizations_url\n",
      "code_search_url\n",
      "commit_search_url\n",
      "emails_url\n",
      "emojis_url\n",
      "events_url\n",
      "feeds_url\n",
      "followers_url\n",
      "following_url\n",
      "gists_url\n",
      "hub_url\n",
      "issue_search_url\n",
      "issues_url\n",
      "keys_url\n",
      "label_search_url\n",
      "notifications_url\n",
      "organization_url\n",
      "organization_repositories_url\n",
      "organization_teams_url\n",
      "public_gists_url\n",
      "rate_limit_url\n",
      "repository_url\n",
      "repository_search_url\n",
      "current_user_repositories_url\n",
      "starred_url\n",
      "starred_gists_url\n",
      "user_url\n",
      "user_organizations_url\n",
      "user_repositories_url\n",
      "user_search_url\n"
     ]
    }
   ],
   "source": [
    "# loop through the request_json file and examine the keys \n",
    "\n",
    "# how do you loop through the keys again?\n",
    "for key in request_json.keys():\n",
    "    print(key)"
   ]
  },
  {
   "cell_type": "code",
   "execution_count": 10,
   "metadata": {},
   "outputs": [
    {
     "data": {
      "text/html": [
       "<div>\n",
       "<style scoped>\n",
       "    .dataframe tbody tr th:only-of-type {\n",
       "        vertical-align: middle;\n",
       "    }\n",
       "\n",
       "    .dataframe tbody tr th {\n",
       "        vertical-align: top;\n",
       "    }\n",
       "\n",
       "    .dataframe thead th {\n",
       "        text-align: right;\n",
       "    }\n",
       "</style>\n",
       "<table border=\"1\" class=\"dataframe\">\n",
       "  <thead>\n",
       "    <tr style=\"text-align: right;\">\n",
       "      <th></th>\n",
       "      <th>url</th>\n",
       "    </tr>\n",
       "  </thead>\n",
       "  <tbody>\n",
       "    <tr>\n",
       "      <th>current_user_url</th>\n",
       "      <td>https://api.github.com/user</td>\n",
       "    </tr>\n",
       "    <tr>\n",
       "      <th>current_user_authorizations_html_url</th>\n",
       "      <td>https://github.com/settings/connections/applic...</td>\n",
       "    </tr>\n",
       "    <tr>\n",
       "      <th>authorizations_url</th>\n",
       "      <td>https://api.github.com/authorizations</td>\n",
       "    </tr>\n",
       "    <tr>\n",
       "      <th>code_search_url</th>\n",
       "      <td>https://api.github.com/search/code?q={query}{&amp;...</td>\n",
       "    </tr>\n",
       "    <tr>\n",
       "      <th>commit_search_url</th>\n",
       "      <td>https://api.github.com/search/commits?q={query...</td>\n",
       "    </tr>\n",
       "  </tbody>\n",
       "</table>\n",
       "</div>"
      ],
      "text/plain": [
       "                                                                                    url\n",
       "current_user_url                                            https://api.github.com/user\n",
       "current_user_authorizations_html_url  https://github.com/settings/connections/applic...\n",
       "authorizations_url                                https://api.github.com/authorizations\n",
       "code_search_url                       https://api.github.com/search/code?q={query}{&...\n",
       "commit_search_url                     https://api.github.com/search/commits?q={query..."
      ]
     },
     "execution_count": 10,
     "metadata": {},
     "output_type": "execute_result"
    }
   ],
   "source": [
    "# can you think of a way in which you'd put them in a dataframe?\n",
    "request_df = pd.DataFrame.from_dict(request_json, orient='index')\n",
    "request_df.columns = ['url']\n",
    "request_df.head()"
   ]
  },
  {
   "cell_type": "markdown",
   "metadata": {},
   "source": [
    "#### YELP API\n",
    "Sometimes you need _authentication_ to get data from a service in additional to just sending a `GET()` request. Yelp API is a perfect example. \n",
    "\n",
    "You will need to go to the YELP's developer's [website](https://www.yelp.com/developers/v3/manage_app) and request for a client ID and API key, which function like a key into a house of data. \n",
    "\n",
    "<img src='yelp.png' width = 500>"
   ]
  },
  {
   "cell_type": "code",
   "execution_count": 11,
   "metadata": {},
   "outputs": [],
   "source": [
    "# lets try to get some data from yelp!\n",
    "url = 'https://api.yelp.com/v3/businesses/search'\n",
    "response = requests.get(url)"
   ]
  },
  {
   "cell_type": "code",
   "execution_count": 29,
   "metadata": {},
   "outputs": [
    {
     "data": {
      "text/plain": [
       "200"
      ]
     },
     "execution_count": 29,
     "metadata": {},
     "output_type": "execute_result"
    }
   ],
   "source": [
    "# check the status code\n",
    "response.status_code\n",
    "\n",
    "# what happened here?"
   ]
  },
  {
   "cell_type": "code",
   "execution_count": 28,
   "metadata": {},
   "outputs": [],
   "source": [
    "#You have to use your API key to access the data!\n",
    "\n",
    "MY_API_KEY = \"aL_R176GPd_nu4xMMcm8wSMIRUfYUj5rJHXBfC2uXgy4YKSsxHeuAzcvgeoOCCSoOl_2hA4TcRFu7Ii5Y0igOzbtD1dh6Hk4wEqRleTushfcVQU69Nkzm6v7gbsyX3Yx\" # replace this with your API key!\n",
    "client = Client(MY_API_KEY)"
   ]
  },
  {
   "cell_type": "code",
   "execution_count": 31,
   "metadata": {},
   "outputs": [
    {
     "name": "stdout",
     "output_type": "stream",
     "text": [
      "<Response [200]>\n",
      "<class 'str'>\n",
      "{\"businesses\": [{\"id\": \"4E6BkrEVf_0TjRVYE7gxeQ\", \"alias\": \"bury-the-hatchet-brooklyn-axe-throwing-brooklyn-2\", \"name\": \"Bury the Hatchet Brooklyn - Axe Throwing\", \"image_url\": \"https://s3-media3.fl.yelpcdn.com/bphoto/SH8_Nwmd13LkntwuzcEPeg/o.jpg\", \"is_closed\": false, \"url\": \"https://www.yelp.com/biz/bury-the-hatchet-brooklyn-axe-throwing-brooklyn-2?adjust_creative=pQguAOt38XVk7yx-gFJpgQ&utm_campaign=yelp_api_v3&utm_medium=api_v3_business_search&utm_source=pQguAOt38XVk7yx-gFJpgQ\", \"review_count\": 142, \"categories\": [{\"alias\": \"axethrowing\", \"title\": \"Axe Throwing\"}, {\"alias\": \"teambuilding\", \"title\": \"Team Building Activities\"}], \"rating\": 4.5, \"coordinates\": {\"latitude\": 40.7283195, \"longitude\": -73.9600679}, \"transactions\": [], \"location\": {\"address1\": \"25 Noble St\", \"address2\": null, \"address3\": \"\", \"city\": \"Brooklyn\", \"zip_code\": \"11222\", \"country\": \"US\", \"state\": \"NY\", \"display_address\": [\"25 Noble St\", \"Brooklyn, NY 11222\"]}, \"phone\": \"+19172439696\", \"display_phone\": \"(917) 243-9696\", \"distance\": 8652.979400045351}, {\"id\": \"PhEkSzYZHKYS7uyXePmkMw\", \"alias\": \"axes-and-arrows-long-island-city-2\", \"name\": \"Axes And Arrows\", \"image_url\": \"https://s3-media4.fl.yelpcdn.com/bphoto/Uinh_osn8ykDeLoigmgo0Q/o.jpg\", \"is_closed\": false, \"url\": \"https://www.yelp.com/biz/axes-and-arrows-long-island-city-2?adjust_creative=pQguAOt38XVk7yx-gFJpgQ&utm_campaign=yelp_api_v3&utm_medium=api_v3_business_search&utm_source=pQguAOt38XVk7yx-gFJpgQ\", \"review_count\": 49, \"categories\": [{\"alias\": \"axethrowing\", \"title\": \"Axe Throwing\"}, {\"alias\": \"archery\", \"title\": \"Archery\"}], \"rating\": 4.5, \"coordinates\": {\"latitude\": 40.7425127, \"longitude\": -73.933816}, \"transactions\": [], \"location\": {\"address1\": \"47- 11 Van Dam St\", \"address2\": null, \"address3\": \"\", \"city\": \"Long Island City\", \"zip_code\": \"11101\", \"country\": \"US\", \"state\": \"NY\", \"display_address\": [\"47- 11 Van Dam St\", \"Long Island City, NY 11101\"]}, \"phone\": \"+17183619152\", \"display_phone\": \"(718) 361-9152\", \"distance\": 9996.588059135383}, {\"id\": \"X0DNGKUQPjf0AfaXfXU2Qg\", \"alias\": \"kick-axe-throwing-brooklyn-2\", \"name\": \"Kick Axe Throwing\", \"image_url\": \"https://s3-media3.fl.yelpcdn.com/bphoto/y5yMn2xwzSncZaJzASFc8A/o.jpg\", \"is_closed\": false, \"url\": \"https://www.yelp.com/biz/kick-axe-throwing-brooklyn-2?adjust_creative=pQguAOt38XVk7yx-gFJpgQ&utm_campaign=yelp_api_v3&utm_medium=api_v3_business_search&utm_source=pQguAOt38XVk7yx-gFJpgQ\", \"review_count\": 398, \"categories\": [{\"alias\": \"bars\", \"title\": \"Bars\"}, {\"alias\": \"axethrowing\", \"title\": \"Axe Throwing\"}, {\"alias\": \"tradamerican\", \"title\": \"American (Traditional)\"}], \"rating\": 4.5, \"coordinates\": {\"latitude\": 40.6790268, \"longitude\": -73.983077}, \"transactions\": [], \"location\": {\"address1\": \"622 Degraw St\", \"address2\": null, \"address3\": \"\", \"city\": \"Brooklyn\", \"zip_code\": \"11217\", \"country\": \"US\", \"state\": \"NY\", \"display_address\": [\"622 Degraw St\", \"Brooklyn, NY 11217\"]}, \"phone\": \"+18335425293\", \"display_phone\": \"(833) 542-5293\", \"distance\": 4733.616620254917}, {\"id\": \"lZVE27r_W_3GXxNwECYC4g\", \"alias\": \"live-axe-new-york\", \"name\": \"Live Axe\", \"image_url\": \"https://s3-media2.fl.yelpcdn.com/bphoto/-Z1qvni_2N-K85FHmaesaQ/o.jpg\", \"is_closed\": false, \"url\": \"https://www.yelp.com/biz/live-axe-new-york?adjust_creative=pQguAOt38XVk7yx-gFJpgQ&utm_campaign=yelp_api_v3&utm_medium=api_v3_business_search&utm_source=pQguAOt38XVk7yx-gFJpgQ\", \"review_count\": 2, \"categories\": [{\"alias\": \"axethrowing\", \"title\": \"Axe Throwing\"}, {\"alias\": \"bars\", \"title\": \"Bars\"}], \"rating\": 5.0, \"coordinates\": {\"latitude\": 40.71769, \"longitude\": -74.00144}, \"transactions\": [], \"location\": {\"address1\": \"96 Lafayette St\", \"address2\": null, \"address3\": null, \"city\": \"New York\", \"zip_code\": \"10013\", \"country\": \"US\", \"state\": \"NY\", \"display_address\": [\"96 Lafayette St\", \"New York, NY 10013\"]}, \"phone\": \"+18888129060\", \"display_phone\": \"(888) 812-9060\", \"distance\": 8955.976101576549}, {\"id\": \"yXOjBSwyqOKDY7oHx3z7HA\", \"alias\": \"tomahawks-jersey-city\", \"name\": \"Tomahawks\", \"image_url\": \"https://s3-media3.fl.yelpcdn.com/bphoto/z9tY1kaOvaSewlTWzLGfGw/o.jpg\", \"is_closed\": false, \"url\": \"https://www.yelp.com/biz/tomahawks-jersey-city?adjust_creative=pQguAOt38XVk7yx-gFJpgQ&utm_campaign=yelp_api_v3&utm_medium=api_v3_business_search&utm_source=pQguAOt38XVk7yx-gFJpgQ\", \"review_count\": 12, \"categories\": [{\"alias\": \"axethrowing\", \"title\": \"Axe Throwing\"}], \"rating\": 4.5, \"coordinates\": {\"latitude\": 40.7411216, \"longitude\": -74.0493572}, \"transactions\": [], \"location\": {\"address1\": \"7 Sherman Ave\", \"address2\": \"Fl 2\", \"address3\": \"\", \"city\": \"Jersey City\", \"zip_code\": \"07307\", \"country\": \"US\", \"state\": \"NJ\", \"display_address\": [\"7 Sherman Ave\", \"Fl 2\", \"Jersey City, NJ 07307\"]}, \"phone\": \"+12014209722\", \"display_phone\": \"(201) 420-9722\", \"distance\": 13556.0314007906}, {\"id\": \"wuy6jyi5cxm1pwnUTWyBLw\", \"alias\": \"stumpys-hatchet-house-fairfield-fairfield-3\", \"name\": \"Stumpy's Hatchet House Fairfield - Axe Throwing\", \"image_url\": \"https://s3-media1.fl.yelpcdn.com/bphoto/yKG858jIoenW0jLpq6Hg1A/o.jpg\", \"is_closed\": false, \"url\": \"https://www.yelp.com/biz/stumpys-hatchet-house-fairfield-fairfield-3?adjust_creative=pQguAOt38XVk7yx-gFJpgQ&utm_campaign=yelp_api_v3&utm_medium=api_v3_business_search&utm_source=pQguAOt38XVk7yx-gFJpgQ\", \"review_count\": 45, \"categories\": [{\"alias\": \"axethrowing\", \"title\": \"Axe Throwing\"}, {\"alias\": \"recreation\", \"title\": \"Recreation Centers\"}], \"rating\": 5.0, \"coordinates\": {\"latitude\": 40.8824525201793, \"longitude\": -74.2942046508915}, \"transactions\": [], \"location\": {\"address1\": \"373 Us-46 W\", \"address2\": \"Ste D140\", \"address3\": \"\", \"city\": \"Fairfield\", \"zip_code\": \"07004\", \"country\": \"US\", \"state\": \"NJ\", \"display_address\": [\"373 Us-46 W\", \"Ste D140\", \"Fairfield, NJ 07004\"]}, \"phone\": \"+19737213120\", \"display_phone\": \"(973) 721-3120\", \"distance\": 39341.674681213146}, {\"id\": \"oKkn9nKh6jB-fsQIDbP4tQ\", \"alias\": \"bury-the-hatchet-matawan\", \"name\": \"Bury The Hatchet\", \"image_url\": \"https://s3-media1.fl.yelpcdn.com/bphoto/EsKEUTyvjjzdr6SzTzubSQ/o.jpg\", \"is_closed\": false, \"url\": \"https://www.yelp.com/biz/bury-the-hatchet-matawan?adjust_creative=pQguAOt38XVk7yx-gFJpgQ&utm_campaign=yelp_api_v3&utm_medium=api_v3_business_search&utm_source=pQguAOt38XVk7yx-gFJpgQ\", \"review_count\": 88, \"categories\": [{\"alias\": \"axethrowing\", \"title\": \"Axe Throwing\"}, {\"alias\": \"teambuilding\", \"title\": \"Team Building Activities\"}], \"rating\": 5.0, \"coordinates\": {\"latitude\": 40.4234040521118, \"longitude\": -74.2643531039357}, \"transactions\": [], \"location\": {\"address1\": \"419 Route 34\", \"address2\": \"\", \"address3\": null, \"city\": \"Matawan\", \"zip_code\": \"07747\", \"country\": \"US\", \"state\": \"NJ\", \"display_address\": [\"419 Route 34\", \"Matawan, NJ 07747\"]}, \"phone\": \"+17329626284\", \"display_phone\": \"(732) 962-6284\", \"distance\": 37446.224760844736}, {\"id\": \"xC9gtq17G9XU5d-yjkprfA\", \"alias\": \"bury-the-hatchet-paramus-axe-throwing-paramus-2\", \"name\": \"Bury the Hatchet Paramus - Axe Throwing\", \"image_url\": \"https://s3-media4.fl.yelpcdn.com/bphoto/2z7jvctXJEeKUBKB-XIPSg/o.jpg\", \"is_closed\": false, \"url\": \"https://www.yelp.com/biz/bury-the-hatchet-paramus-axe-throwing-paramus-2?adjust_creative=pQguAOt38XVk7yx-gFJpgQ&utm_campaign=yelp_api_v3&utm_medium=api_v3_business_search&utm_source=pQguAOt38XVk7yx-gFJpgQ\", \"review_count\": 74, \"categories\": [{\"alias\": \"axethrowing\", \"title\": \"Axe Throwing\"}], \"rating\": 4.0, \"coordinates\": {\"latitude\": 40.94936, \"longitude\": -74.068}, \"transactions\": [], \"location\": {\"address1\": \"49 E Midland Ave\", \"address2\": null, \"address3\": \"\", \"city\": \"Paramus\", \"zip_code\": \"07652\", \"country\": \"US\", \"state\": \"NJ\", \"display_address\": [\"49 E Midland Ave\", \"Paramus, NJ 07652\"]}, \"phone\": \"+12016883358\", \"display_phone\": \"(201) 688-3358\", \"distance\": 34723.273827788835}, {\"id\": \"1BUoVTCYSpGfG0oobAr5Hg\", \"alias\": \"bury-the-hatchet-axe-throwing-bloomfield-bloomfield\", \"name\": \"Bury The Hatchet Axe Throwing- Bloomfield\", \"image_url\": \"https://s3-media4.fl.yelpcdn.com/bphoto/c7amJNaBe8KAvI2zaMvYqQ/o.jpg\", \"is_closed\": false, \"url\": \"https://www.yelp.com/biz/bury-the-hatchet-axe-throwing-bloomfield-bloomfield?adjust_creative=pQguAOt38XVk7yx-gFJpgQ&utm_campaign=yelp_api_v3&utm_medium=api_v3_business_search&utm_source=pQguAOt38XVk7yx-gFJpgQ\", \"review_count\": 89, \"categories\": [{\"alias\": \"axethrowing\", \"title\": \"Axe Throwing\"}], \"rating\": 4.5, \"coordinates\": {\"latitude\": 40.79607, \"longitude\": -74.2003299}, \"transactions\": [], \"location\": {\"address1\": \"672 Bloomfield Ave\", \"address2\": null, \"address3\": \"\", \"city\": \"Bloomfield\", \"zip_code\": \"07003\", \"country\": \"US\", \"state\": \"NJ\", \"display_address\": [\"672 Bloomfield Ave\", \"Bloomfield, NJ 07003\"]}, \"phone\": \"+19738427725\", \"display_phone\": \"(973) 842-7725\", \"distance\": 27173.957270887662}, {\"id\": \"5izrkxTF_OWgwEdgzjNCAA\", \"alias\": \"bury-the-hatchet-woodbridge-axe-throwing-avenel\", \"name\": \"Bury The Hatchet Woodbridge - Axe Throwing\", \"image_url\": \"https://s3-media4.fl.yelpcdn.com/bphoto/UCivFgn-R6bEcNn4_S4Ajw/o.jpg\", \"is_closed\": false, \"url\": \"https://www.yelp.com/biz/bury-the-hatchet-woodbridge-axe-throwing-avenel?adjust_creative=pQguAOt38XVk7yx-gFJpgQ&utm_campaign=yelp_api_v3&utm_medium=api_v3_business_search&utm_source=pQguAOt38XVk7yx-gFJpgQ\", \"review_count\": 6, \"categories\": [{\"alias\": \"axethrowing\", \"title\": \"Axe Throwing\"}], \"rating\": 4.5, \"coordinates\": {\"latitude\": 40.5919, \"longitude\": -74.28943}, \"transactions\": [], \"location\": {\"address1\": \"1600 St Georges Ave\", \"address2\": null, \"address3\": \"\", \"city\": \"Avenel\", \"zip_code\": \"07001\", \"country\": \"US\", \"state\": \"NJ\", \"display_address\": [\"1600 St Georges Ave\", \"Avenel, NJ 07001\"]}, \"phone\": \"+17322986614\", \"display_phone\": \"(732) 298-6614\", \"distance\": 30245.23722930506}], \"total\": 25, \"region\": {\"center\": {\"longitude\": -73.93936157226562, \"latitude\": 40.652330148320374}}}\n"
     ]
    }
   ],
   "source": [
    "# now we are ready to get our data \n",
    "\n",
    "# usually, services would limit you to a certain amount of API calls. This varies from service\n",
    "# to service, so you have to watch out to it \n",
    "\n",
    "term = 'Axe Throwing'\n",
    "location = 'Brooklyn'\n",
    "SEARCH_LIMIT = 10\n",
    "\n",
    "url = 'https://api.yelp.com/v3/businesses/search'\n",
    "\n",
    "headers = {\n",
    "        'Authorization': 'Bearer {}'.format(MY_API_KEY),\n",
    "    }\n",
    "\n",
    "url_params = {\n",
    "                'term': term.replace(' ', '+'),\n",
    "                'location': location.replace(' ', '+'),\n",
    "                'limit': SEARCH_LIMIT\n",
    "            }\n",
    "response = requests.get(url, headers=headers, params=url_params)\n",
    "print(response)\n",
    "print(type(response.text))\n",
    "print(response.text)"
   ]
  },
  {
   "cell_type": "code",
   "execution_count": 16,
   "metadata": {},
   "outputs": [],
   "source": [
    "# cleaning and formatting the data\n",
    "axe_throwing = response.text\n",
    "axe_throwing = json.loads(axe_throwing)"
   ]
  },
  {
   "cell_type": "code",
   "execution_count": 17,
   "metadata": {
    "scrolled": false
   },
   "outputs": [
    {
     "name": "stdout",
     "output_type": "stream",
     "text": [
      "businesses\n",
      "total\n",
      "region\n"
     ]
    }
   ],
   "source": [
    "# cleaning and exploring the data\n",
    "for key in axe_throwing.keys():\n",
    "    print(key)"
   ]
  },
  {
   "cell_type": "code",
   "execution_count": 18,
   "metadata": {},
   "outputs": [
    {
     "data": {
      "text/plain": [
       "[{'id': '4E6BkrEVf_0TjRVYE7gxeQ',\n",
       "  'alias': 'bury-the-hatchet-brooklyn-axe-throwing-brooklyn-2',\n",
       "  'name': 'Bury the Hatchet Brooklyn - Axe Throwing',\n",
       "  'image_url': 'https://s3-media3.fl.yelpcdn.com/bphoto/SH8_Nwmd13LkntwuzcEPeg/o.jpg',\n",
       "  'is_closed': False,\n",
       "  'url': 'https://www.yelp.com/biz/bury-the-hatchet-brooklyn-axe-throwing-brooklyn-2?adjust_creative=pQguAOt38XVk7yx-gFJpgQ&utm_campaign=yelp_api_v3&utm_medium=api_v3_business_search&utm_source=pQguAOt38XVk7yx-gFJpgQ',\n",
       "  'review_count': 142,\n",
       "  'categories': [{'alias': 'axethrowing', 'title': 'Axe Throwing'},\n",
       "   {'alias': 'teambuilding', 'title': 'Team Building Activities'}],\n",
       "  'rating': 4.5,\n",
       "  'coordinates': {'latitude': 40.7283195, 'longitude': -73.9600679},\n",
       "  'transactions': [],\n",
       "  'location': {'address1': '25 Noble St',\n",
       "   'address2': None,\n",
       "   'address3': '',\n",
       "   'city': 'Brooklyn',\n",
       "   'zip_code': '11222',\n",
       "   'country': 'US',\n",
       "   'state': 'NY',\n",
       "   'display_address': ['25 Noble St', 'Brooklyn, NY 11222']},\n",
       "  'phone': '+19172439696',\n",
       "  'display_phone': '(917) 243-9696',\n",
       "  'distance': 8652.979400045351},\n",
       " {'id': 'PhEkSzYZHKYS7uyXePmkMw',\n",
       "  'alias': 'axes-and-arrows-long-island-city-2',\n",
       "  'name': 'Axes And Arrows',\n",
       "  'image_url': 'https://s3-media4.fl.yelpcdn.com/bphoto/Uinh_osn8ykDeLoigmgo0Q/o.jpg',\n",
       "  'is_closed': False,\n",
       "  'url': 'https://www.yelp.com/biz/axes-and-arrows-long-island-city-2?adjust_creative=pQguAOt38XVk7yx-gFJpgQ&utm_campaign=yelp_api_v3&utm_medium=api_v3_business_search&utm_source=pQguAOt38XVk7yx-gFJpgQ',\n",
       "  'review_count': 49,\n",
       "  'categories': [{'alias': 'axethrowing', 'title': 'Axe Throwing'},\n",
       "   {'alias': 'archery', 'title': 'Archery'}],\n",
       "  'rating': 4.5,\n",
       "  'coordinates': {'latitude': 40.7425127, 'longitude': -73.933816},\n",
       "  'transactions': [],\n",
       "  'location': {'address1': '47- 11 Van Dam St',\n",
       "   'address2': None,\n",
       "   'address3': '',\n",
       "   'city': 'Long Island City',\n",
       "   'zip_code': '11101',\n",
       "   'country': 'US',\n",
       "   'state': 'NY',\n",
       "   'display_address': ['47- 11 Van Dam St', 'Long Island City, NY 11101']},\n",
       "  'phone': '+17183619152',\n",
       "  'display_phone': '(718) 361-9152',\n",
       "  'distance': 9996.588059135383},\n",
       " {'id': 'X0DNGKUQPjf0AfaXfXU2Qg',\n",
       "  'alias': 'kick-axe-throwing-brooklyn-2',\n",
       "  'name': 'Kick Axe Throwing',\n",
       "  'image_url': 'https://s3-media3.fl.yelpcdn.com/bphoto/y5yMn2xwzSncZaJzASFc8A/o.jpg',\n",
       "  'is_closed': False,\n",
       "  'url': 'https://www.yelp.com/biz/kick-axe-throwing-brooklyn-2?adjust_creative=pQguAOt38XVk7yx-gFJpgQ&utm_campaign=yelp_api_v3&utm_medium=api_v3_business_search&utm_source=pQguAOt38XVk7yx-gFJpgQ',\n",
       "  'review_count': 398,\n",
       "  'categories': [{'alias': 'bars', 'title': 'Bars'},\n",
       "   {'alias': 'axethrowing', 'title': 'Axe Throwing'},\n",
       "   {'alias': 'tradamerican', 'title': 'American (Traditional)'}],\n",
       "  'rating': 4.5,\n",
       "  'coordinates': {'latitude': 40.6790268, 'longitude': -73.983077},\n",
       "  'transactions': [],\n",
       "  'location': {'address1': '622 Degraw St',\n",
       "   'address2': None,\n",
       "   'address3': '',\n",
       "   'city': 'Brooklyn',\n",
       "   'zip_code': '11217',\n",
       "   'country': 'US',\n",
       "   'state': 'NY',\n",
       "   'display_address': ['622 Degraw St', 'Brooklyn, NY 11217']},\n",
       "  'phone': '+18335425293',\n",
       "  'display_phone': '(833) 542-5293',\n",
       "  'distance': 4733.616620254917},\n",
       " {'id': 'lZVE27r_W_3GXxNwECYC4g',\n",
       "  'alias': 'live-axe-new-york',\n",
       "  'name': 'Live Axe',\n",
       "  'image_url': 'https://s3-media2.fl.yelpcdn.com/bphoto/-Z1qvni_2N-K85FHmaesaQ/o.jpg',\n",
       "  'is_closed': False,\n",
       "  'url': 'https://www.yelp.com/biz/live-axe-new-york?adjust_creative=pQguAOt38XVk7yx-gFJpgQ&utm_campaign=yelp_api_v3&utm_medium=api_v3_business_search&utm_source=pQguAOt38XVk7yx-gFJpgQ',\n",
       "  'review_count': 2,\n",
       "  'categories': [{'alias': 'axethrowing', 'title': 'Axe Throwing'},\n",
       "   {'alias': 'bars', 'title': 'Bars'}],\n",
       "  'rating': 5.0,\n",
       "  'coordinates': {'latitude': 40.71769, 'longitude': -74.00144},\n",
       "  'transactions': [],\n",
       "  'location': {'address1': '96 Lafayette St',\n",
       "   'address2': None,\n",
       "   'address3': None,\n",
       "   'city': 'New York',\n",
       "   'zip_code': '10013',\n",
       "   'country': 'US',\n",
       "   'state': 'NY',\n",
       "   'display_address': ['96 Lafayette St', 'New York, NY 10013']},\n",
       "  'phone': '+18888129060',\n",
       "  'display_phone': '(888) 812-9060',\n",
       "  'distance': 8955.976101576549},\n",
       " {'id': 'yXOjBSwyqOKDY7oHx3z7HA',\n",
       "  'alias': 'tomahawks-jersey-city',\n",
       "  'name': 'Tomahawks',\n",
       "  'image_url': 'https://s3-media3.fl.yelpcdn.com/bphoto/z9tY1kaOvaSewlTWzLGfGw/o.jpg',\n",
       "  'is_closed': False,\n",
       "  'url': 'https://www.yelp.com/biz/tomahawks-jersey-city?adjust_creative=pQguAOt38XVk7yx-gFJpgQ&utm_campaign=yelp_api_v3&utm_medium=api_v3_business_search&utm_source=pQguAOt38XVk7yx-gFJpgQ',\n",
       "  'review_count': 12,\n",
       "  'categories': [{'alias': 'axethrowing', 'title': 'Axe Throwing'}],\n",
       "  'rating': 4.5,\n",
       "  'coordinates': {'latitude': 40.7411216, 'longitude': -74.0493572},\n",
       "  'transactions': [],\n",
       "  'location': {'address1': '7 Sherman Ave',\n",
       "   'address2': 'Fl 2',\n",
       "   'address3': '',\n",
       "   'city': 'Jersey City',\n",
       "   'zip_code': '07307',\n",
       "   'country': 'US',\n",
       "   'state': 'NJ',\n",
       "   'display_address': ['7 Sherman Ave', 'Fl 2', 'Jersey City, NJ 07307']},\n",
       "  'phone': '+12014209722',\n",
       "  'display_phone': '(201) 420-9722',\n",
       "  'distance': 13556.0314007906},\n",
       " {'id': 'wuy6jyi5cxm1pwnUTWyBLw',\n",
       "  'alias': 'stumpys-hatchet-house-fairfield-fairfield-3',\n",
       "  'name': \"Stumpy's Hatchet House Fairfield - Axe Throwing\",\n",
       "  'image_url': 'https://s3-media1.fl.yelpcdn.com/bphoto/yKG858jIoenW0jLpq6Hg1A/o.jpg',\n",
       "  'is_closed': False,\n",
       "  'url': 'https://www.yelp.com/biz/stumpys-hatchet-house-fairfield-fairfield-3?adjust_creative=pQguAOt38XVk7yx-gFJpgQ&utm_campaign=yelp_api_v3&utm_medium=api_v3_business_search&utm_source=pQguAOt38XVk7yx-gFJpgQ',\n",
       "  'review_count': 45,\n",
       "  'categories': [{'alias': 'axethrowing', 'title': 'Axe Throwing'},\n",
       "   {'alias': 'recreation', 'title': 'Recreation Centers'}],\n",
       "  'rating': 5.0,\n",
       "  'coordinates': {'latitude': 40.8824525201793,\n",
       "   'longitude': -74.2942046508915},\n",
       "  'transactions': [],\n",
       "  'location': {'address1': '373 Us-46 W',\n",
       "   'address2': 'Ste D140',\n",
       "   'address3': '',\n",
       "   'city': 'Fairfield',\n",
       "   'zip_code': '07004',\n",
       "   'country': 'US',\n",
       "   'state': 'NJ',\n",
       "   'display_address': ['373 Us-46 W', 'Ste D140', 'Fairfield, NJ 07004']},\n",
       "  'phone': '+19737213120',\n",
       "  'display_phone': '(973) 721-3120',\n",
       "  'distance': 39341.674681213146},\n",
       " {'id': 'oKkn9nKh6jB-fsQIDbP4tQ',\n",
       "  'alias': 'bury-the-hatchet-matawan',\n",
       "  'name': 'Bury The Hatchet',\n",
       "  'image_url': 'https://s3-media1.fl.yelpcdn.com/bphoto/EsKEUTyvjjzdr6SzTzubSQ/o.jpg',\n",
       "  'is_closed': False,\n",
       "  'url': 'https://www.yelp.com/biz/bury-the-hatchet-matawan?adjust_creative=pQguAOt38XVk7yx-gFJpgQ&utm_campaign=yelp_api_v3&utm_medium=api_v3_business_search&utm_source=pQguAOt38XVk7yx-gFJpgQ',\n",
       "  'review_count': 88,\n",
       "  'categories': [{'alias': 'axethrowing', 'title': 'Axe Throwing'},\n",
       "   {'alias': 'teambuilding', 'title': 'Team Building Activities'}],\n",
       "  'rating': 5.0,\n",
       "  'coordinates': {'latitude': 40.4234040521118,\n",
       "   'longitude': -74.2643531039357},\n",
       "  'transactions': [],\n",
       "  'location': {'address1': '419 Route 34',\n",
       "   'address2': '',\n",
       "   'address3': None,\n",
       "   'city': 'Matawan',\n",
       "   'zip_code': '07747',\n",
       "   'country': 'US',\n",
       "   'state': 'NJ',\n",
       "   'display_address': ['419 Route 34', 'Matawan, NJ 07747']},\n",
       "  'phone': '+17329626284',\n",
       "  'display_phone': '(732) 962-6284',\n",
       "  'distance': 37446.224760844736},\n",
       " {'id': 'xC9gtq17G9XU5d-yjkprfA',\n",
       "  'alias': 'bury-the-hatchet-paramus-axe-throwing-paramus-2',\n",
       "  'name': 'Bury the Hatchet Paramus - Axe Throwing',\n",
       "  'image_url': 'https://s3-media4.fl.yelpcdn.com/bphoto/2z7jvctXJEeKUBKB-XIPSg/o.jpg',\n",
       "  'is_closed': False,\n",
       "  'url': 'https://www.yelp.com/biz/bury-the-hatchet-paramus-axe-throwing-paramus-2?adjust_creative=pQguAOt38XVk7yx-gFJpgQ&utm_campaign=yelp_api_v3&utm_medium=api_v3_business_search&utm_source=pQguAOt38XVk7yx-gFJpgQ',\n",
       "  'review_count': 74,\n",
       "  'categories': [{'alias': 'axethrowing', 'title': 'Axe Throwing'}],\n",
       "  'rating': 4.0,\n",
       "  'coordinates': {'latitude': 40.94936, 'longitude': -74.068},\n",
       "  'transactions': [],\n",
       "  'location': {'address1': '49 E Midland Ave',\n",
       "   'address2': None,\n",
       "   'address3': '',\n",
       "   'city': 'Paramus',\n",
       "   'zip_code': '07652',\n",
       "   'country': 'US',\n",
       "   'state': 'NJ',\n",
       "   'display_address': ['49 E Midland Ave', 'Paramus, NJ 07652']},\n",
       "  'phone': '+12016883358',\n",
       "  'display_phone': '(201) 688-3358',\n",
       "  'distance': 34723.273827788835},\n",
       " {'id': '1BUoVTCYSpGfG0oobAr5Hg',\n",
       "  'alias': 'bury-the-hatchet-axe-throwing-bloomfield-bloomfield',\n",
       "  'name': 'Bury The Hatchet Axe Throwing- Bloomfield',\n",
       "  'image_url': 'https://s3-media4.fl.yelpcdn.com/bphoto/c7amJNaBe8KAvI2zaMvYqQ/o.jpg',\n",
       "  'is_closed': False,\n",
       "  'url': 'https://www.yelp.com/biz/bury-the-hatchet-axe-throwing-bloomfield-bloomfield?adjust_creative=pQguAOt38XVk7yx-gFJpgQ&utm_campaign=yelp_api_v3&utm_medium=api_v3_business_search&utm_source=pQguAOt38XVk7yx-gFJpgQ',\n",
       "  'review_count': 89,\n",
       "  'categories': [{'alias': 'axethrowing', 'title': 'Axe Throwing'}],\n",
       "  'rating': 4.5,\n",
       "  'coordinates': {'latitude': 40.79607, 'longitude': -74.2003299},\n",
       "  'transactions': [],\n",
       "  'location': {'address1': '672 Bloomfield Ave',\n",
       "   'address2': None,\n",
       "   'address3': '',\n",
       "   'city': 'Bloomfield',\n",
       "   'zip_code': '07003',\n",
       "   'country': 'US',\n",
       "   'state': 'NJ',\n",
       "   'display_address': ['672 Bloomfield Ave', 'Bloomfield, NJ 07003']},\n",
       "  'phone': '+19738427725',\n",
       "  'display_phone': '(973) 842-7725',\n",
       "  'distance': 27173.957270887662},\n",
       " {'id': '5izrkxTF_OWgwEdgzjNCAA',\n",
       "  'alias': 'bury-the-hatchet-woodbridge-axe-throwing-avenel',\n",
       "  'name': 'Bury The Hatchet Woodbridge - Axe Throwing',\n",
       "  'image_url': 'https://s3-media4.fl.yelpcdn.com/bphoto/UCivFgn-R6bEcNn4_S4Ajw/o.jpg',\n",
       "  'is_closed': False,\n",
       "  'url': 'https://www.yelp.com/biz/bury-the-hatchet-woodbridge-axe-throwing-avenel?adjust_creative=pQguAOt38XVk7yx-gFJpgQ&utm_campaign=yelp_api_v3&utm_medium=api_v3_business_search&utm_source=pQguAOt38XVk7yx-gFJpgQ',\n",
       "  'review_count': 6,\n",
       "  'categories': [{'alias': 'axethrowing', 'title': 'Axe Throwing'}],\n",
       "  'rating': 4.5,\n",
       "  'coordinates': {'latitude': 40.5919, 'longitude': -74.28943},\n",
       "  'transactions': [],\n",
       "  'location': {'address1': '1600 St Georges Ave',\n",
       "   'address2': None,\n",
       "   'address3': '',\n",
       "   'city': 'Avenel',\n",
       "   'zip_code': '07001',\n",
       "   'country': 'US',\n",
       "   'state': 'NJ',\n",
       "   'display_address': ['1600 St Georges Ave', 'Avenel, NJ 07001']},\n",
       "  'phone': '+17322986614',\n",
       "  'display_phone': '(732) 298-6614',\n",
       "  'distance': 30245.23722930506}]"
      ]
     },
     "execution_count": 18,
     "metadata": {},
     "output_type": "execute_result"
    }
   ],
   "source": [
    "axe_throwing['businesses']"
   ]
  },
  {
   "cell_type": "code",
   "execution_count": 21,
   "metadata": {
    "scrolled": false
   },
   "outputs": [
    {
     "data": {
      "text/plain": [
       "dict_keys(['id', 'alias', 'name', 'image_url', 'is_closed', 'url', 'review_count', 'categories', 'rating', 'coordinates', 'transactions', 'location', 'phone', 'display_phone', 'distance'])"
      ]
     },
     "execution_count": 21,
     "metadata": {},
     "output_type": "execute_result"
    }
   ],
   "source": [
    "# examine the first element of businesses\n",
    "axe_throwing['businesses'][0].keys()"
   ]
  },
  {
   "cell_type": "code",
   "execution_count": 23,
   "metadata": {
    "scrolled": false
   },
   "outputs": [
    {
     "data": {
      "text/html": [
       "<div>\n",
       "<style scoped>\n",
       "    .dataframe tbody tr th:only-of-type {\n",
       "        vertical-align: middle;\n",
       "    }\n",
       "\n",
       "    .dataframe tbody tr th {\n",
       "        vertical-align: top;\n",
       "    }\n",
       "\n",
       "    .dataframe thead th {\n",
       "        text-align: right;\n",
       "    }\n",
       "</style>\n",
       "<table border=\"1\" class=\"dataframe\">\n",
       "  <thead>\n",
       "    <tr style=\"text-align: right;\">\n",
       "      <th></th>\n",
       "      <th>id</th>\n",
       "      <th>alias</th>\n",
       "      <th>name</th>\n",
       "      <th>image_url</th>\n",
       "      <th>is_closed</th>\n",
       "      <th>url</th>\n",
       "      <th>review_count</th>\n",
       "      <th>categories</th>\n",
       "      <th>rating</th>\n",
       "      <th>coordinates</th>\n",
       "      <th>transactions</th>\n",
       "      <th>location</th>\n",
       "      <th>phone</th>\n",
       "      <th>display_phone</th>\n",
       "      <th>distance</th>\n",
       "    </tr>\n",
       "  </thead>\n",
       "  <tbody>\n",
       "    <tr>\n",
       "      <th>0</th>\n",
       "      <td>4E6BkrEVf_0TjRVYE7gxeQ</td>\n",
       "      <td>bury-the-hatchet-brooklyn-axe-throwing-brooklyn-2</td>\n",
       "      <td>Bury the Hatchet Brooklyn - Axe Throwing</td>\n",
       "      <td>https://s3-media3.fl.yelpcdn.com/bphoto/SH8_Nw...</td>\n",
       "      <td>False</td>\n",
       "      <td>https://www.yelp.com/biz/bury-the-hatchet-broo...</td>\n",
       "      <td>142</td>\n",
       "      <td>[{'alias': 'axethrowing', 'title': 'Axe Throwi...</td>\n",
       "      <td>4.5</td>\n",
       "      <td>{'latitude': 40.7283195, 'longitude': -73.9600...</td>\n",
       "      <td>[]</td>\n",
       "      <td>{'address1': '25 Noble St', 'address2': None, ...</td>\n",
       "      <td>+19172439696</td>\n",
       "      <td>(917) 243-9696</td>\n",
       "      <td>8652.979400</td>\n",
       "    </tr>\n",
       "    <tr>\n",
       "      <th>1</th>\n",
       "      <td>PhEkSzYZHKYS7uyXePmkMw</td>\n",
       "      <td>axes-and-arrows-long-island-city-2</td>\n",
       "      <td>Axes And Arrows</td>\n",
       "      <td>https://s3-media4.fl.yelpcdn.com/bphoto/Uinh_o...</td>\n",
       "      <td>False</td>\n",
       "      <td>https://www.yelp.com/biz/axes-and-arrows-long-...</td>\n",
       "      <td>49</td>\n",
       "      <td>[{'alias': 'axethrowing', 'title': 'Axe Throwi...</td>\n",
       "      <td>4.5</td>\n",
       "      <td>{'latitude': 40.7425127, 'longitude': -73.933816}</td>\n",
       "      <td>[]</td>\n",
       "      <td>{'address1': '47- 11 Van Dam St', 'address2': ...</td>\n",
       "      <td>+17183619152</td>\n",
       "      <td>(718) 361-9152</td>\n",
       "      <td>9996.588059</td>\n",
       "    </tr>\n",
       "    <tr>\n",
       "      <th>2</th>\n",
       "      <td>X0DNGKUQPjf0AfaXfXU2Qg</td>\n",
       "      <td>kick-axe-throwing-brooklyn-2</td>\n",
       "      <td>Kick Axe Throwing</td>\n",
       "      <td>https://s3-media3.fl.yelpcdn.com/bphoto/y5yMn2...</td>\n",
       "      <td>False</td>\n",
       "      <td>https://www.yelp.com/biz/kick-axe-throwing-bro...</td>\n",
       "      <td>398</td>\n",
       "      <td>[{'alias': 'bars', 'title': 'Bars'}, {'alias':...</td>\n",
       "      <td>4.5</td>\n",
       "      <td>{'latitude': 40.6790268, 'longitude': -73.983077}</td>\n",
       "      <td>[]</td>\n",
       "      <td>{'address1': '622 Degraw St', 'address2': None...</td>\n",
       "      <td>+18335425293</td>\n",
       "      <td>(833) 542-5293</td>\n",
       "      <td>4733.616620</td>\n",
       "    </tr>\n",
       "    <tr>\n",
       "      <th>3</th>\n",
       "      <td>lZVE27r_W_3GXxNwECYC4g</td>\n",
       "      <td>live-axe-new-york</td>\n",
       "      <td>Live Axe</td>\n",
       "      <td>https://s3-media2.fl.yelpcdn.com/bphoto/-Z1qvn...</td>\n",
       "      <td>False</td>\n",
       "      <td>https://www.yelp.com/biz/live-axe-new-york?adj...</td>\n",
       "      <td>2</td>\n",
       "      <td>[{'alias': 'axethrowing', 'title': 'Axe Throwi...</td>\n",
       "      <td>5.0</td>\n",
       "      <td>{'latitude': 40.71769, 'longitude': -74.00144}</td>\n",
       "      <td>[]</td>\n",
       "      <td>{'address1': '96 Lafayette St', 'address2': No...</td>\n",
       "      <td>+18888129060</td>\n",
       "      <td>(888) 812-9060</td>\n",
       "      <td>8955.976102</td>\n",
       "    </tr>\n",
       "    <tr>\n",
       "      <th>4</th>\n",
       "      <td>yXOjBSwyqOKDY7oHx3z7HA</td>\n",
       "      <td>tomahawks-jersey-city</td>\n",
       "      <td>Tomahawks</td>\n",
       "      <td>https://s3-media3.fl.yelpcdn.com/bphoto/z9tY1k...</td>\n",
       "      <td>False</td>\n",
       "      <td>https://www.yelp.com/biz/tomahawks-jersey-city...</td>\n",
       "      <td>12</td>\n",
       "      <td>[{'alias': 'axethrowing', 'title': 'Axe Throwi...</td>\n",
       "      <td>4.5</td>\n",
       "      <td>{'latitude': 40.7411216, 'longitude': -74.0493...</td>\n",
       "      <td>[]</td>\n",
       "      <td>{'address1': '7 Sherman Ave', 'address2': 'Fl ...</td>\n",
       "      <td>+12014209722</td>\n",
       "      <td>(201) 420-9722</td>\n",
       "      <td>13556.031401</td>\n",
       "    </tr>\n",
       "  </tbody>\n",
       "</table>\n",
       "</div>"
      ],
      "text/plain": [
       "                       id                                              alias  \\\n",
       "0  4E6BkrEVf_0TjRVYE7gxeQ  bury-the-hatchet-brooklyn-axe-throwing-brooklyn-2   \n",
       "1  PhEkSzYZHKYS7uyXePmkMw                 axes-and-arrows-long-island-city-2   \n",
       "2  X0DNGKUQPjf0AfaXfXU2Qg                       kick-axe-throwing-brooklyn-2   \n",
       "3  lZVE27r_W_3GXxNwECYC4g                                  live-axe-new-york   \n",
       "4  yXOjBSwyqOKDY7oHx3z7HA                              tomahawks-jersey-city   \n",
       "\n",
       "                                       name  \\\n",
       "0  Bury the Hatchet Brooklyn - Axe Throwing   \n",
       "1                           Axes And Arrows   \n",
       "2                         Kick Axe Throwing   \n",
       "3                                  Live Axe   \n",
       "4                                 Tomahawks   \n",
       "\n",
       "                                           image_url  is_closed  \\\n",
       "0  https://s3-media3.fl.yelpcdn.com/bphoto/SH8_Nw...      False   \n",
       "1  https://s3-media4.fl.yelpcdn.com/bphoto/Uinh_o...      False   \n",
       "2  https://s3-media3.fl.yelpcdn.com/bphoto/y5yMn2...      False   \n",
       "3  https://s3-media2.fl.yelpcdn.com/bphoto/-Z1qvn...      False   \n",
       "4  https://s3-media3.fl.yelpcdn.com/bphoto/z9tY1k...      False   \n",
       "\n",
       "                                                 url  review_count  \\\n",
       "0  https://www.yelp.com/biz/bury-the-hatchet-broo...           142   \n",
       "1  https://www.yelp.com/biz/axes-and-arrows-long-...            49   \n",
       "2  https://www.yelp.com/biz/kick-axe-throwing-bro...           398   \n",
       "3  https://www.yelp.com/biz/live-axe-new-york?adj...             2   \n",
       "4  https://www.yelp.com/biz/tomahawks-jersey-city...            12   \n",
       "\n",
       "                                          categories  rating  \\\n",
       "0  [{'alias': 'axethrowing', 'title': 'Axe Throwi...     4.5   \n",
       "1  [{'alias': 'axethrowing', 'title': 'Axe Throwi...     4.5   \n",
       "2  [{'alias': 'bars', 'title': 'Bars'}, {'alias':...     4.5   \n",
       "3  [{'alias': 'axethrowing', 'title': 'Axe Throwi...     5.0   \n",
       "4  [{'alias': 'axethrowing', 'title': 'Axe Throwi...     4.5   \n",
       "\n",
       "                                         coordinates transactions  \\\n",
       "0  {'latitude': 40.7283195, 'longitude': -73.9600...           []   \n",
       "1  {'latitude': 40.7425127, 'longitude': -73.933816}           []   \n",
       "2  {'latitude': 40.6790268, 'longitude': -73.983077}           []   \n",
       "3     {'latitude': 40.71769, 'longitude': -74.00144}           []   \n",
       "4  {'latitude': 40.7411216, 'longitude': -74.0493...           []   \n",
       "\n",
       "                                            location         phone  \\\n",
       "0  {'address1': '25 Noble St', 'address2': None, ...  +19172439696   \n",
       "1  {'address1': '47- 11 Van Dam St', 'address2': ...  +17183619152   \n",
       "2  {'address1': '622 Degraw St', 'address2': None...  +18335425293   \n",
       "3  {'address1': '96 Lafayette St', 'address2': No...  +18888129060   \n",
       "4  {'address1': '7 Sherman Ave', 'address2': 'Fl ...  +12014209722   \n",
       "\n",
       "    display_phone      distance  \n",
       "0  (917) 243-9696   8652.979400  \n",
       "1  (718) 361-9152   9996.588059  \n",
       "2  (833) 542-5293   4733.616620  \n",
       "3  (888) 812-9060   8955.976102  \n",
       "4  (201) 420-9722  13556.031401  "
      ]
     },
     "execution_count": 23,
     "metadata": {},
     "output_type": "execute_result"
    }
   ],
   "source": [
    "axe_throwing_df = pd.DataFrame.from_dict(axe_throwing['businesses'])\n",
    "axe_throwing_df.head()"
   ]
  },
  {
   "cell_type": "code",
   "execution_count": 24,
   "metadata": {
    "scrolled": true
   },
   "outputs": [
    {
     "data": {
      "text/plain": [
       "Text(0, 0.5, 'Count')"
      ]
     },
     "execution_count": 24,
     "metadata": {},
     "output_type": "execute_result"
    },
    {
     "data": {
      "image/png": "[encoded data removed]",
      "text/plain": [
       "<Figure size 576x396 with 1 Axes>"
      ]
     },
     "metadata": {},
     "output_type": "display_data"
    }
   ],
   "source": [
    "# you can do some analysis and visualization from here on! \n",
    "\n",
    "plt.hist(axe_throwing_df['review_count'], color='pink', alpha = 0.8)\n",
    "plt.title('Axe Throwing reviewing count in Brooklyn')\n",
    "plt.xlabel('Reviews')\n",
    "plt.ylabel('Count')"
   ]
  },
  {
   "cell_type": "code",
   "execution_count": 27,
   "metadata": {},
   "outputs": [
    {
     "data": {
      "text/plain": [
       "'Kick Axe Throwing'"
      ]
     },
     "execution_count": 27,
     "metadata": {},
     "output_type": "execute_result"
    }
   ],
   "source": [
    "# query the name of the axe throwing place with the highest review\n",
    "axe_throwing_df.sort_values(by = 'review_count', ascending = False).name.reset_index(drop = True)[0]\n"
   ]
  },
  {
   "cell_type": "code",
   "execution_count": 33,
   "metadata": {},
   "outputs": [
    {
     "name": "stdout",
     "output_type": "stream",
     "text": [
      "<Response [200]>\n",
      "<class 'str'>\n",
      "{\"businesses\": [{\"id\": \"X_2RR5F7Bq3jos28dQuvlg\", \"alias\": \"ward-iii-new-york\", \"name\": \"Ward III\", \"image_url\": \"https://s3-media1.fl.yelpcdn.com/bphoto/2I96vCXSuKWxzEPrg4_vmQ/o.jpg\", \"is_closed\": false, \"url\": \"https://www.yelp.com/biz/ward-iii-new-york?adjust_creative=pQguAOt38XVk7yx-gFJpgQ&utm_campaign=yelp_api_v3&utm_medium=api_v3_business_search&utm_source=pQguAOt38XVk7yx-gFJpgQ\", \"review_count\": 449, \"categories\": [{\"alias\": \"lounges\", \"title\": \"Lounges\"}, {\"alias\": \"cocktailbars\", \"title\": \"Cocktail Bars\"}, {\"alias\": \"whiskeybars\", \"title\": \"Whiskey Bars\"}], \"rating\": 4.0, \"coordinates\": {\"latitude\": 40.7157247, \"longitude\": -74.0087103}, \"transactions\": [], \"price\": \"$$\", \"location\": {\"address1\": \"111 Reade St\", \"address2\": \"\", \"address3\": \"\", \"city\": \"New York\", \"zip_code\": \"10013\", \"country\": \"US\", \"state\": \"NY\", \"display_address\": [\"111 Reade St\", \"New York, NY 10013\"]}, \"phone\": \"+12122409194\", \"display_phone\": \"(212) 240-9194\", \"distance\": 383.092369522286}, {\"id\": \"tRZcEKBNNwiZw1_Px_POag\", \"alias\": \"smith-and-mills-new-york-2\", \"name\": \"Smith & Mills\", \"image_url\": \"https://s3-media2.fl.yelpcdn.com/bphoto/y-rdFY1O7xZtl7TGFdLdtA/o.jpg\", \"is_closed\": false, \"url\": \"https://www.yelp.com/biz/smith-and-mills-new-york-2?adjust_creative=pQguAOt38XVk7yx-gFJpgQ&utm_campaign=yelp_api_v3&utm_medium=api_v3_business_search&utm_source=pQguAOt38XVk7yx-gFJpgQ\", \"review_count\": 282, \"categories\": [{\"alias\": \"lounges\", \"title\": \"Lounges\"}, {\"alias\": \"newamerican\", \"title\": \"American (New)\"}], \"rating\": 4.0, \"coordinates\": {\"latitude\": 40.72018, \"longitude\": -74.00991}, \"transactions\": [\"delivery\", \"pickup\"], \"price\": \"$$\", \"location\": {\"address1\": \"71 N Moore St\", \"address2\": \"\", \"address3\": \"\", \"city\": \"New York\", \"zip_code\": \"10013\", \"country\": \"US\", \"state\": \"NY\", \"display_address\": [\"71 N Moore St\", \"New York, NY 10013\"]}, \"phone\": \"+12122262515\", \"display_phone\": \"(212) 226-2515\", \"distance\": 238.36802175206773}, {\"id\": \"JnT3w2BDpaQpbBP76pyYew\", \"alias\": \"anotheroom-new-york\", \"name\": \"Anotheroom\", \"image_url\": \"https://s3-media4.fl.yelpcdn.com/bphoto/LKPexc1rgv4DFvzW_ksDuQ/o.jpg\", \"is_closed\": false, \"url\": \"https://www.yelp.com/biz/anotheroom-new-york?adjust_creative=pQguAOt38XVk7yx-gFJpgQ&utm_campaign=yelp_api_v3&utm_medium=api_v3_business_search&utm_source=pQguAOt38XVk7yx-gFJpgQ\", \"review_count\": 156, \"categories\": [{\"alias\": \"lounges\", \"title\": \"Lounges\"}], \"rating\": 4.0, \"coordinates\": {\"latitude\": 40.7197516, \"longitude\": -74.0056772}, \"transactions\": [], \"price\": \"$$\", \"location\": {\"address1\": \"249 W Broadway\", \"address2\": \"\", \"address3\": \"\", \"city\": \"New York\", \"zip_code\": \"10013\", \"country\": \"US\", \"state\": \"NY\", \"display_address\": [\"249 W Broadway\", \"New York, NY 10013\"]}, \"phone\": \"+12122261418\", \"display_phone\": \"(212) 226-1418\", \"distance\": 184.00135198603357}, {\"id\": \"wE7xOQGyTlbtKlWLQlaXhA\", \"alias\": \"weather-up-new-york\", \"name\": \"Weather Up\", \"image_url\": \"https://s3-media2.fl.yelpcdn.com/bphoto/LivHUpr-MR0obbxpe_I42g/o.jpg\", \"is_closed\": false, \"url\": \"https://www.yelp.com/biz/weather-up-new-york?adjust_creative=pQguAOt38XVk7yx-gFJpgQ&utm_campaign=yelp_api_v3&utm_medium=api_v3_business_search&utm_source=pQguAOt38XVk7yx-gFJpgQ\", \"review_count\": 155, \"categories\": [{\"alias\": \"bars\", \"title\": \"Bars\"}], \"rating\": 3.5, \"coordinates\": {\"latitude\": 40.7168599, \"longitude\": -74.00872}, \"transactions\": [], \"price\": \"$$$\", \"location\": {\"address1\": \"159 Duane St\", \"address2\": \"\", \"address3\": \"\", \"city\": \"New York\", \"zip_code\": \"10013\", \"country\": \"US\", \"state\": \"NY\", \"display_address\": [\"159 Duane St\", \"New York, NY 10013\"]}, \"phone\": \"+12127663202\", \"display_phone\": \"(212) 766-3202\", \"distance\": 260.6976491648986}, {\"id\": \"BSv3awhABROYjjwlQaQ-Qw\", \"alias\": \"tinys-and-the-bar-upstairs-new-york-2\", \"name\": \"Tiny's & The Bar Upstairs\", \"image_url\": \"https://s3-media3.fl.yelpcdn.com/bphoto/mih10MqtQ1fPKnVw2U6P8g/o.jpg\", \"is_closed\": false, \"url\": \"https://www.yelp.com/biz/tinys-and-the-bar-upstairs-new-york-2?adjust_creative=pQguAOt38XVk7yx-gFJpgQ&utm_campaign=yelp_api_v3&utm_medium=api_v3_business_search&utm_source=pQguAOt38XVk7yx-gFJpgQ\", \"review_count\": 583, \"categories\": [{\"alias\": \"bars\", \"title\": \"Bars\"}, {\"alias\": \"newamerican\", \"title\": \"American (New)\"}], \"rating\": 4.0, \"coordinates\": {\"latitude\": 40.716698, \"longitude\": -74.00816}, \"transactions\": [\"delivery\", \"pickup\"], \"price\": \"$$\", \"location\": {\"address1\": \"135 W Broadway\", \"address2\": \"\", \"address3\": \"\", \"city\": \"New York\", \"zip_code\": \"10013\", \"country\": \"US\", \"state\": \"NY\", \"display_address\": [\"135 W Broadway\", \"New York, NY 10013\"]}, \"phone\": \"+12123741135\", \"display_phone\": \"(212) 374-1135\", \"distance\": 266.5322626463603}, {\"id\": \"zWrZBXj5F2V_0UknnTfqbw\", \"alias\": \"the-up-and-up-new-york-2\", \"name\": \"The Up & Up\", \"image_url\": \"https://s3-media2.fl.yelpcdn.com/bphoto/PjivAhOykU5fiHN2f_bFig/o.jpg\", \"is_closed\": false, \"url\": \"https://www.yelp.com/biz/the-up-and-up-new-york-2?adjust_creative=pQguAOt38XVk7yx-gFJpgQ&utm_campaign=yelp_api_v3&utm_medium=api_v3_business_search&utm_source=pQguAOt38XVk7yx-gFJpgQ\", \"review_count\": 434, \"categories\": [{\"alias\": \"cocktailbars\", \"title\": \"Cocktail Bars\"}], \"rating\": 4.0, \"coordinates\": {\"latitude\": 40.7295104447158, \"longitude\": -74.0006693438721}, \"transactions\": [\"delivery\", \"pickup\"], \"price\": \"$$\", \"location\": {\"address1\": \"116 MacDougal St\", \"address2\": \"\", \"address3\": \"\", \"city\": \"New York\", \"zip_code\": \"10012\", \"country\": \"US\", \"state\": \"NY\", \"display_address\": [\"116 MacDougal St\", \"New York, NY 10012\"]}, \"phone\": \"+12122603000\", \"display_phone\": \"(212) 260-3000\", \"distance\": 1297.063344091422}, {\"id\": \"H7S7-vF2z_HfaLo6BGPetw\", \"alias\": \"attaboy-new-york\", \"name\": \"Attaboy\", \"image_url\": \"https://s3-media2.fl.yelpcdn.com/bphoto/Uh7vEEKxPvgw3kexFzuz9Q/o.jpg\", \"is_closed\": false, \"url\": \"https://www.yelp.com/biz/attaboy-new-york?adjust_creative=pQguAOt38XVk7yx-gFJpgQ&utm_campaign=yelp_api_v3&utm_medium=api_v3_business_search&utm_source=pQguAOt38XVk7yx-gFJpgQ\", \"review_count\": 549, \"categories\": [{\"alias\": \"cocktailbars\", \"title\": \"Cocktail Bars\"}, {\"alias\": \"speakeasies\", \"title\": \"Speakeasies\"}], \"rating\": 4.0, \"coordinates\": {\"latitude\": 40.7188874, \"longitude\": -73.9913351}, \"transactions\": [], \"price\": \"$$\", \"location\": {\"address1\": \"134 Eldridge St\", \"address2\": \"\", \"address3\": \"\", \"city\": \"New York\", \"zip_code\": \"10002\", \"country\": \"US\", \"state\": \"NY\", \"display_address\": [\"134 Eldridge St\", \"New York, NY 10002\"]}, \"phone\": \"\", \"display_phone\": \"\", \"distance\": 1356.11999442515}, {\"id\": \"sLxHi6kOAEV6iqr45jzb_Q\", \"alias\": \"b-flat-new-york\", \"name\": \"B Flat\", \"image_url\": \"https://s3-media2.fl.yelpcdn.com/bphoto/d4KbqzdyNFpVBdVmvLrtOQ/o.jpg\", \"is_closed\": false, \"url\": \"https://www.yelp.com/biz/b-flat-new-york?adjust_creative=pQguAOt38XVk7yx-gFJpgQ&utm_campaign=yelp_api_v3&utm_medium=api_v3_business_search&utm_source=pQguAOt38XVk7yx-gFJpgQ\", \"review_count\": 362, \"categories\": [{\"alias\": \"lounges\", \"title\": \"Lounges\"}, {\"alias\": \"jazzandblues\", \"title\": \"Jazz & Blues\"}, {\"alias\": \"japanese\", \"title\": \"Japanese\"}], \"rating\": 4.0, \"coordinates\": {\"latitude\": 40.7185644131449, \"longitude\": -74.0048434404755}, \"transactions\": [], \"price\": \"$$\", \"location\": {\"address1\": \"277 Church St\", \"address2\": \"\", \"address3\": \"\", \"city\": \"New York\", \"zip_code\": \"10013\", \"country\": \"US\", \"state\": \"NY\", \"display_address\": [\"277 Church St\", \"New York, NY 10013\"]}, \"phone\": \"+12122192970\", \"display_phone\": \"(212) 219-2970\", \"distance\": 223.65037162535336}, {\"id\": \"OQOr0DE1HtSNfxO5_mwfFg\", \"alias\": \"five-and-dime-new-york\", \"name\": \"Five & Dime\", \"image_url\": \"https://s3-media4.fl.yelpcdn.com/bphoto/IHZmo7FzlOcH4D9o015XKw/o.jpg\", \"is_closed\": false, \"url\": \"https://www.yelp.com/biz/five-and-dime-new-york?adjust_creative=pQguAOt38XVk7yx-gFJpgQ&utm_campaign=yelp_api_v3&utm_medium=api_v3_business_search&utm_source=pQguAOt38XVk7yx-gFJpgQ\", \"review_count\": 86, \"categories\": [{\"alias\": \"coffee\", \"title\": \"Coffee & Tea\"}, {\"alias\": \"cocktailbars\", \"title\": \"Cocktail Bars\"}], \"rating\": 4.5, \"coordinates\": {\"latitude\": 40.7126429155284, \"longitude\": -74.0080474702053}, \"transactions\": [\"delivery\", \"pickup\"], \"price\": \"$$\", \"location\": {\"address1\": \"8 Park Pl\", \"address2\": \"\", \"address3\": null, \"city\": \"New York\", \"zip_code\": \"10007\", \"country\": \"US\", \"state\": \"NY\", \"display_address\": [\"8 Park Pl\", \"New York, NY 10007\"]}, \"phone\": \"+12124333463\", \"display_phone\": \"(212) 433-3463\", \"distance\": 715.7824228871185}, {\"id\": \"3y_-DwmoM198umnZHSOmKQ\", \"alias\": \"yves-new-york-2\", \"name\": \"Yves\", \"image_url\": \"https://s3-media1.fl.yelpcdn.com/bphoto/XskuU1BkuUZDw_10HhRGSQ/o.jpg\", \"is_closed\": false, \"url\": \"https://www.yelp.com/biz/yves-new-york-2?adjust_creative=pQguAOt38XVk7yx-gFJpgQ&utm_campaign=yelp_api_v3&utm_medium=api_v3_business_search&utm_source=pQguAOt38XVk7yx-gFJpgQ\", \"review_count\": 71, \"categories\": [{\"alias\": \"cocktailbars\", \"title\": \"Cocktail Bars\"}, {\"alias\": \"newamerican\", \"title\": \"American (New)\"}, {\"alias\": \"french\", \"title\": \"French\"}], \"rating\": 4.0, \"coordinates\": {\"latitude\": 40.72021, \"longitude\": -74.00996}, \"transactions\": [\"delivery\", \"pickup\"], \"price\": \"$$\", \"location\": {\"address1\": \"385 Greenwich St\", \"address2\": \"\", \"address3\": null, \"city\": \"New York\", \"zip_code\": \"10013\", \"country\": \"US\", \"state\": \"NY\", \"display_address\": [\"385 Greenwich St\", \"New York, NY 10013\"]}, \"phone\": \"+12124313385\", \"display_phone\": \"(212) 431-3385\", \"distance\": 245.03364832931024}], \"total\": 869, \"region\": {\"center\": {\"longitude\": -74.00742530822754, \"latitude\": 40.71902940718034}}}\n"
     ]
    }
   ],
   "source": [
    "term = 'Cocktail'\n",
    "location = 'Tribeca'\n",
    "SEARCH_LIMIT = 10\n",
    "\n",
    "url = 'https://api.yelp.com/v3/businesses/search'\n",
    "\n",
    "headers = {\n",
    "        'Authorization': 'Bearer {}'.format(MY_API_KEY),\n",
    "    }\n",
    "\n",
    "url_params = {\n",
    "                'term': term.replace(' ', '+'),\n",
    "                'location': location.replace(' ', '+'),\n",
    "                'limit': SEARCH_LIMIT\n",
    "            }\n",
    "response_1 = requests.get(url, headers=headers, params=url_params)\n",
    "print(response_1)\n",
    "print(type(response_1.text))\n",
    "print(response_1.text)"
   ]
  },
  {
   "cell_type": "code",
   "execution_count": 34,
   "metadata": {},
   "outputs": [],
   "source": [
    "cocktail_bar = response_1.text\n",
    "cocktail_bar = json.loads(cocktail_bar)"
   ]
  },
  {
   "cell_type": "code",
   "execution_count": 35,
   "metadata": {},
   "outputs": [
    {
     "name": "stdout",
     "output_type": "stream",
     "text": [
      "businesses\n",
      "total\n",
      "region\n"
     ]
    }
   ],
   "source": [
    "for key in cocktail_bar.keys():\n",
    "    print(key)"
   ]
  },
  {
   "cell_type": "code",
   "execution_count": 36,
   "metadata": {},
   "outputs": [
    {
     "data": {
      "text/plain": [
       "[{'id': 'X_2RR5F7Bq3jos28dQuvlg',\n",
       "  'alias': 'ward-iii-new-york',\n",
       "  'name': 'Ward III',\n",
       "  'image_url': 'https://s3-media1.fl.yelpcdn.com/bphoto/2I96vCXSuKWxzEPrg4_vmQ/o.jpg',\n",
       "  'is_closed': False,\n",
       "  'url': 'https://www.yelp.com/biz/ward-iii-new-york?adjust_creative=pQguAOt38XVk7yx-gFJpgQ&utm_campaign=yelp_api_v3&utm_medium=api_v3_business_search&utm_source=pQguAOt38XVk7yx-gFJpgQ',\n",
       "  'review_count': 449,\n",
       "  'categories': [{'alias': 'lounges', 'title': 'Lounges'},\n",
       "   {'alias': 'cocktailbars', 'title': 'Cocktail Bars'},\n",
       "   {'alias': 'whiskeybars', 'title': 'Whiskey Bars'}],\n",
       "  'rating': 4.0,\n",
       "  'coordinates': {'latitude': 40.7157247, 'longitude': -74.0087103},\n",
       "  'transactions': [],\n",
       "  'price': '$$',\n",
       "  'location': {'address1': '111 Reade St',\n",
       "   'address2': '',\n",
       "   'address3': '',\n",
       "   'city': 'New York',\n",
       "   'zip_code': '10013',\n",
       "   'country': 'US',\n",
       "   'state': 'NY',\n",
       "   'display_address': ['111 Reade St', 'New York, NY 10013']},\n",
       "  'phone': '+12122409194',\n",
       "  'display_phone': '(212) 240-9194',\n",
       "  'distance': 383.092369522286},\n",
       " {'id': 'tRZcEKBNNwiZw1_Px_POag',\n",
       "  'alias': 'smith-and-mills-new-york-2',\n",
       "  'name': 'Smith & Mills',\n",
       "  'image_url': 'https://s3-media2.fl.yelpcdn.com/bphoto/y-rdFY1O7xZtl7TGFdLdtA/o.jpg',\n",
       "  'is_closed': False,\n",
       "  'url': 'https://www.yelp.com/biz/smith-and-mills-new-york-2?adjust_creative=pQguAOt38XVk7yx-gFJpgQ&utm_campaign=yelp_api_v3&utm_medium=api_v3_business_search&utm_source=pQguAOt38XVk7yx-gFJpgQ',\n",
       "  'review_count': 282,\n",
       "  'categories': [{'alias': 'lounges', 'title': 'Lounges'},\n",
       "   {'alias': 'newamerican', 'title': 'American (New)'}],\n",
       "  'rating': 4.0,\n",
       "  'coordinates': {'latitude': 40.72018, 'longitude': -74.00991},\n",
       "  'transactions': ['delivery', 'pickup'],\n",
       "  'price': '$$',\n",
       "  'location': {'address1': '71 N Moore St',\n",
       "   'address2': '',\n",
       "   'address3': '',\n",
       "   'city': 'New York',\n",
       "   'zip_code': '10013',\n",
       "   'country': 'US',\n",
       "   'state': 'NY',\n",
       "   'display_address': ['71 N Moore St', 'New York, NY 10013']},\n",
       "  'phone': '+12122262515',\n",
       "  'display_phone': '(212) 226-2515',\n",
       "  'distance': 238.36802175206773},\n",
       " {'id': 'JnT3w2BDpaQpbBP76pyYew',\n",
       "  'alias': 'anotheroom-new-york',\n",
       "  'name': 'Anotheroom',\n",
       "  'image_url': 'https://s3-media4.fl.yelpcdn.com/bphoto/LKPexc1rgv4DFvzW_ksDuQ/o.jpg',\n",
       "  'is_closed': False,\n",
       "  'url': 'https://www.yelp.com/biz/anotheroom-new-york?adjust_creative=pQguAOt38XVk7yx-gFJpgQ&utm_campaign=yelp_api_v3&utm_medium=api_v3_business_search&utm_source=pQguAOt38XVk7yx-gFJpgQ',\n",
       "  'review_count': 156,\n",
       "  'categories': [{'alias': 'lounges', 'title': 'Lounges'}],\n",
       "  'rating': 4.0,\n",
       "  'coordinates': {'latitude': 40.7197516, 'longitude': -74.0056772},\n",
       "  'transactions': [],\n",
       "  'price': '$$',\n",
       "  'location': {'address1': '249 W Broadway',\n",
       "   'address2': '',\n",
       "   'address3': '',\n",
       "   'city': 'New York',\n",
       "   'zip_code': '10013',\n",
       "   'country': 'US',\n",
       "   'state': 'NY',\n",
       "   'display_address': ['249 W Broadway', 'New York, NY 10013']},\n",
       "  'phone': '+12122261418',\n",
       "  'display_phone': '(212) 226-1418',\n",
       "  'distance': 184.00135198603357},\n",
       " {'id': 'wE7xOQGyTlbtKlWLQlaXhA',\n",
       "  'alias': 'weather-up-new-york',\n",
       "  'name': 'Weather Up',\n",
       "  'image_url': 'https://s3-media2.fl.yelpcdn.com/bphoto/LivHUpr-MR0obbxpe_I42g/o.jpg',\n",
       "  'is_closed': False,\n",
       "  'url': 'https://www.yelp.com/biz/weather-up-new-york?adjust_creative=pQguAOt38XVk7yx-gFJpgQ&utm_campaign=yelp_api_v3&utm_medium=api_v3_business_search&utm_source=pQguAOt38XVk7yx-gFJpgQ',\n",
       "  'review_count': 155,\n",
       "  'categories': [{'alias': 'bars', 'title': 'Bars'}],\n",
       "  'rating': 3.5,\n",
       "  'coordinates': {'latitude': 40.7168599, 'longitude': -74.00872},\n",
       "  'transactions': [],\n",
       "  'price': '$$$',\n",
       "  'location': {'address1': '159 Duane St',\n",
       "   'address2': '',\n",
       "   'address3': '',\n",
       "   'city': 'New York',\n",
       "   'zip_code': '10013',\n",
       "   'country': 'US',\n",
       "   'state': 'NY',\n",
       "   'display_address': ['159 Duane St', 'New York, NY 10013']},\n",
       "  'phone': '+12127663202',\n",
       "  'display_phone': '(212) 766-3202',\n",
       "  'distance': 260.6976491648986},\n",
       " {'id': 'BSv3awhABROYjjwlQaQ-Qw',\n",
       "  'alias': 'tinys-and-the-bar-upstairs-new-york-2',\n",
       "  'name': \"Tiny's & The Bar Upstairs\",\n",
       "  'image_url': 'https://s3-media3.fl.yelpcdn.com/bphoto/mih10MqtQ1fPKnVw2U6P8g/o.jpg',\n",
       "  'is_closed': False,\n",
       "  'url': 'https://www.yelp.com/biz/tinys-and-the-bar-upstairs-new-york-2?adjust_creative=pQguAOt38XVk7yx-gFJpgQ&utm_campaign=yelp_api_v3&utm_medium=api_v3_business_search&utm_source=pQguAOt38XVk7yx-gFJpgQ',\n",
       "  'review_count': 583,\n",
       "  'categories': [{'alias': 'bars', 'title': 'Bars'},\n",
       "   {'alias': 'newamerican', 'title': 'American (New)'}],\n",
       "  'rating': 4.0,\n",
       "  'coordinates': {'latitude': 40.716698, 'longitude': -74.00816},\n",
       "  'transactions': ['delivery', 'pickup'],\n",
       "  'price': '$$',\n",
       "  'location': {'address1': '135 W Broadway',\n",
       "   'address2': '',\n",
       "   'address3': '',\n",
       "   'city': 'New York',\n",
       "   'zip_code': '10013',\n",
       "   'country': 'US',\n",
       "   'state': 'NY',\n",
       "   'display_address': ['135 W Broadway', 'New York, NY 10013']},\n",
       "  'phone': '+12123741135',\n",
       "  'display_phone': '(212) 374-1135',\n",
       "  'distance': 266.5322626463603},\n",
       " {'id': 'zWrZBXj5F2V_0UknnTfqbw',\n",
       "  'alias': 'the-up-and-up-new-york-2',\n",
       "  'name': 'The Up & Up',\n",
       "  'image_url': 'https://s3-media2.fl.yelpcdn.com/bphoto/PjivAhOykU5fiHN2f_bFig/o.jpg',\n",
       "  'is_closed': False,\n",
       "  'url': 'https://www.yelp.com/biz/the-up-and-up-new-york-2?adjust_creative=pQguAOt38XVk7yx-gFJpgQ&utm_campaign=yelp_api_v3&utm_medium=api_v3_business_search&utm_source=pQguAOt38XVk7yx-gFJpgQ',\n",
       "  'review_count': 434,\n",
       "  'categories': [{'alias': 'cocktailbars', 'title': 'Cocktail Bars'}],\n",
       "  'rating': 4.0,\n",
       "  'coordinates': {'latitude': 40.7295104447158,\n",
       "   'longitude': -74.0006693438721},\n",
       "  'transactions': ['delivery', 'pickup'],\n",
       "  'price': '$$',\n",
       "  'location': {'address1': '116 MacDougal St',\n",
       "   'address2': '',\n",
       "   'address3': '',\n",
       "   'city': 'New York',\n",
       "   'zip_code': '10012',\n",
       "   'country': 'US',\n",
       "   'state': 'NY',\n",
       "   'display_address': ['116 MacDougal St', 'New York, NY 10012']},\n",
       "  'phone': '+12122603000',\n",
       "  'display_phone': '(212) 260-3000',\n",
       "  'distance': 1297.063344091422},\n",
       " {'id': 'H7S7-vF2z_HfaLo6BGPetw',\n",
       "  'alias': 'attaboy-new-york',\n",
       "  'name': 'Attaboy',\n",
       "  'image_url': 'https://s3-media2.fl.yelpcdn.com/bphoto/Uh7vEEKxPvgw3kexFzuz9Q/o.jpg',\n",
       "  'is_closed': False,\n",
       "  'url': 'https://www.yelp.com/biz/attaboy-new-york?adjust_creative=pQguAOt38XVk7yx-gFJpgQ&utm_campaign=yelp_api_v3&utm_medium=api_v3_business_search&utm_source=pQguAOt38XVk7yx-gFJpgQ',\n",
       "  'review_count': 549,\n",
       "  'categories': [{'alias': 'cocktailbars', 'title': 'Cocktail Bars'},\n",
       "   {'alias': 'speakeasies', 'title': 'Speakeasies'}],\n",
       "  'rating': 4.0,\n",
       "  'coordinates': {'latitude': 40.7188874, 'longitude': -73.9913351},\n",
       "  'transactions': [],\n",
       "  'price': '$$',\n",
       "  'location': {'address1': '134 Eldridge St',\n",
       "   'address2': '',\n",
       "   'address3': '',\n",
       "   'city': 'New York',\n",
       "   'zip_code': '10002',\n",
       "   'country': 'US',\n",
       "   'state': 'NY',\n",
       "   'display_address': ['134 Eldridge St', 'New York, NY 10002']},\n",
       "  'phone': '',\n",
       "  'display_phone': '',\n",
       "  'distance': 1356.11999442515},\n",
       " {'id': 'sLxHi6kOAEV6iqr45jzb_Q',\n",
       "  'alias': 'b-flat-new-york',\n",
       "  'name': 'B Flat',\n",
       "  'image_url': 'https://s3-media2.fl.yelpcdn.com/bphoto/d4KbqzdyNFpVBdVmvLrtOQ/o.jpg',\n",
       "  'is_closed': False,\n",
       "  'url': 'https://www.yelp.com/biz/b-flat-new-york?adjust_creative=pQguAOt38XVk7yx-gFJpgQ&utm_campaign=yelp_api_v3&utm_medium=api_v3_business_search&utm_source=pQguAOt38XVk7yx-gFJpgQ',\n",
       "  'review_count': 362,\n",
       "  'categories': [{'alias': 'lounges', 'title': 'Lounges'},\n",
       "   {'alias': 'jazzandblues', 'title': 'Jazz & Blues'},\n",
       "   {'alias': 'japanese', 'title': 'Japanese'}],\n",
       "  'rating': 4.0,\n",
       "  'coordinates': {'latitude': 40.7185644131449,\n",
       "   'longitude': -74.0048434404755},\n",
       "  'transactions': [],\n",
       "  'price': '$$',\n",
       "  'location': {'address1': '277 Church St',\n",
       "   'address2': '',\n",
       "   'address3': '',\n",
       "   'city': 'New York',\n",
       "   'zip_code': '10013',\n",
       "   'country': 'US',\n",
       "   'state': 'NY',\n",
       "   'display_address': ['277 Church St', 'New York, NY 10013']},\n",
       "  'phone': '+12122192970',\n",
       "  'display_phone': '(212) 219-2970',\n",
       "  'distance': 223.65037162535336},\n",
       " {'id': 'OQOr0DE1HtSNfxO5_mwfFg',\n",
       "  'alias': 'five-and-dime-new-york',\n",
       "  'name': 'Five & Dime',\n",
       "  'image_url': 'https://s3-media4.fl.yelpcdn.com/bphoto/IHZmo7FzlOcH4D9o015XKw/o.jpg',\n",
       "  'is_closed': False,\n",
       "  'url': 'https://www.yelp.com/biz/five-and-dime-new-york?adjust_creative=pQguAOt38XVk7yx-gFJpgQ&utm_campaign=yelp_api_v3&utm_medium=api_v3_business_search&utm_source=pQguAOt38XVk7yx-gFJpgQ',\n",
       "  'review_count': 86,\n",
       "  'categories': [{'alias': 'coffee', 'title': 'Coffee & Tea'},\n",
       "   {'alias': 'cocktailbars', 'title': 'Cocktail Bars'}],\n",
       "  'rating': 4.5,\n",
       "  'coordinates': {'latitude': 40.7126429155284,\n",
       "   'longitude': -74.0080474702053},\n",
       "  'transactions': ['delivery', 'pickup'],\n",
       "  'price': '$$',\n",
       "  'location': {'address1': '8 Park Pl',\n",
       "   'address2': '',\n",
       "   'address3': None,\n",
       "   'city': 'New York',\n",
       "   'zip_code': '10007',\n",
       "   'country': 'US',\n",
       "   'state': 'NY',\n",
       "   'display_address': ['8 Park Pl', 'New York, NY 10007']},\n",
       "  'phone': '+12124333463',\n",
       "  'display_phone': '(212) 433-3463',\n",
       "  'distance': 715.7824228871185},\n",
       " {'id': '3y_-DwmoM198umnZHSOmKQ',\n",
       "  'alias': 'yves-new-york-2',\n",
       "  'name': 'Yves',\n",
       "  'image_url': 'https://s3-media1.fl.yelpcdn.com/bphoto/XskuU1BkuUZDw_10HhRGSQ/o.jpg',\n",
       "  'is_closed': False,\n",
       "  'url': 'https://www.yelp.com/biz/yves-new-york-2?adjust_creative=pQguAOt38XVk7yx-gFJpgQ&utm_campaign=yelp_api_v3&utm_medium=api_v3_business_search&utm_source=pQguAOt38XVk7yx-gFJpgQ',\n",
       "  'review_count': 71,\n",
       "  'categories': [{'alias': 'cocktailbars', 'title': 'Cocktail Bars'},\n",
       "   {'alias': 'newamerican', 'title': 'American (New)'},\n",
       "   {'alias': 'french', 'title': 'French'}],\n",
       "  'rating': 4.0,\n",
       "  'coordinates': {'latitude': 40.72021, 'longitude': -74.00996},\n",
       "  'transactions': ['delivery', 'pickup'],\n",
       "  'price': '$$',\n",
       "  'location': {'address1': '385 Greenwich St',\n",
       "   'address2': '',\n",
       "   'address3': None,\n",
       "   'city': 'New York',\n",
       "   'zip_code': '10013',\n",
       "   'country': 'US',\n",
       "   'state': 'NY',\n",
       "   'display_address': ['385 Greenwich St', 'New York, NY 10013']},\n",
       "  'phone': '+12124313385',\n",
       "  'display_phone': '(212) 431-3385',\n",
       "  'distance': 245.03364832931024}]"
      ]
     },
     "execution_count": 36,
     "metadata": {},
     "output_type": "execute_result"
    }
   ],
   "source": [
    "cocktail_bar['businesses']"
   ]
  },
  {
   "cell_type": "code",
   "execution_count": 37,
   "metadata": {},
   "outputs": [
    {
     "data": {
      "text/plain": [
       "dict_keys(['id', 'alias', 'name', 'image_url', 'is_closed', 'url', 'review_count', 'categories', 'rating', 'coordinates', 'transactions', 'price', 'location', 'phone', 'display_phone', 'distance'])"
      ]
     },
     "execution_count": 37,
     "metadata": {},
     "output_type": "execute_result"
    }
   ],
   "source": [
    "cocktail_bar['businesses'][0].keys()"
   ]
  },
  {
   "cell_type": "code",
   "execution_count": 42,
   "metadata": {},
   "outputs": [
    {
     "data": {
      "text/html": [
       "<div>\n",
       "<style scoped>\n",
       "    .dataframe tbody tr th:only-of-type {\n",
       "        vertical-align: middle;\n",
       "    }\n",
       "\n",
       "    .dataframe tbody tr th {\n",
       "        vertical-align: top;\n",
       "    }\n",
       "\n",
       "    .dataframe thead th {\n",
       "        text-align: right;\n",
       "    }\n",
       "</style>\n",
       "<table border=\"1\" class=\"dataframe\">\n",
       "  <thead>\n",
       "    <tr style=\"text-align: right;\">\n",
       "      <th></th>\n",
       "      <th>id</th>\n",
       "      <th>alias</th>\n",
       "      <th>name</th>\n",
       "      <th>image_url</th>\n",
       "      <th>is_closed</th>\n",
       "      <th>url</th>\n",
       "      <th>review_count</th>\n",
       "      <th>categories</th>\n",
       "      <th>rating</th>\n",
       "      <th>coordinates</th>\n",
       "      <th>transactions</th>\n",
       "      <th>price</th>\n",
       "      <th>location</th>\n",
       "      <th>phone</th>\n",
       "      <th>display_phone</th>\n",
       "      <th>distance</th>\n",
       "    </tr>\n",
       "  </thead>\n",
       "  <tbody>\n",
       "    <tr>\n",
       "      <th>0</th>\n",
       "      <td>X_2RR5F7Bq3jos28dQuvlg</td>\n",
       "      <td>ward-iii-new-york</td>\n",
       "      <td>Ward III</td>\n",
       "      <td>https://s3-media1.fl.yelpcdn.com/bphoto/2I96vC...</td>\n",
       "      <td>False</td>\n",
       "      <td>https://www.yelp.com/biz/ward-iii-new-york?adj...</td>\n",
       "      <td>449</td>\n",
       "      <td>[{'alias': 'lounges', 'title': 'Lounges'}, {'a...</td>\n",
       "      <td>4.0</td>\n",
       "      <td>{'latitude': 40.7157247, 'longitude': -74.0087...</td>\n",
       "      <td>[]</td>\n",
       "      <td>$$</td>\n",
       "      <td>{'address1': '111 Reade St', 'address2': '', '...</td>\n",
       "      <td>+12122409194</td>\n",
       "      <td>(212) 240-9194</td>\n",
       "      <td>383.09237</td>\n",
       "    </tr>\n",
       "  </tbody>\n",
       "</table>\n",
       "</div>"
      ],
      "text/plain": [
       "                       id              alias      name  \\\n",
       "0  X_2RR5F7Bq3jos28dQuvlg  ward-iii-new-york  Ward III   \n",
       "\n",
       "                                           image_url  is_closed  \\\n",
       "0  https://s3-media1.fl.yelpcdn.com/bphoto/2I96vC...      False   \n",
       "\n",
       "                                                 url  review_count  \\\n",
       "0  https://www.yelp.com/biz/ward-iii-new-york?adj...           449   \n",
       "\n",
       "                                          categories  rating  \\\n",
       "0  [{'alias': 'lounges', 'title': 'Lounges'}, {'a...     4.0   \n",
       "\n",
       "                                         coordinates transactions price  \\\n",
       "0  {'latitude': 40.7157247, 'longitude': -74.0087...           []    $$   \n",
       "\n",
       "                                            location         phone  \\\n",
       "0  {'address1': '111 Reade St', 'address2': '', '...  +12122409194   \n",
       "\n",
       "    display_phone   distance  \n",
       "0  (212) 240-9194  383.09237  "
      ]
     },
     "execution_count": 42,
     "metadata": {},
     "output_type": "execute_result"
    }
   ],
   "source": [
    "cocktail_bar_df = pd.DataFrame.from_dict(cocktail_bar['businesses'])\n",
    "cocktail_bar_df.head(1)"
   ]
  },
  {
   "cell_type": "code",
   "execution_count": 58,
   "metadata": {},
   "outputs": [],
   "source": [
    "x = list(cocktail_bar_df['name'])\n",
    "y = list(cocktail_bar_df['rating'])"
   ]
  },
  {
   "cell_type": "code",
   "execution_count": 70,
   "metadata": {},
   "outputs": [
    {
     "data": {
      "image/png": "[encoded data removed]",
      "text/plain": [
       "<Figure size 576x396 with 1 Axes>"
      ]
     },
     "metadata": {},
     "output_type": "display_data"
    }
   ],
   "source": [
    "plt.bar(x, y, color='royalblue')\n",
    "plt.xlabel(\"Cocktail Bar\")\n",
    "plt.ylabel(\"Rating\")\n",
    "plt.title(\"Highest Rated Cocktail Bars in Tribeca\")\n",
    "\n",
    "plt.xticks(x, rotation=70)\n",
    "\n",
    "plt.show()"
   ]
  },
  {
   "cell_type": "code",
   "execution_count": null,
   "metadata": {},
   "outputs": [],
   "source": [
    "# can you do some other queries using sql/pandas?"
   ]
  },
  {
   "cell_type": "markdown",
   "metadata": {},
   "source": [
    "#### Resources\n",
    "- [Getting Data from Reddit API](https://www.storybench.org/how-to-scrape-reddit-with-python/)\n",
    "- [Twitch API](https://dev.twitch.tv/docs)"
   ]
  }
 ],
 "metadata": {
  "kernelspec": {
   "display_name": "Python 3",
   "language": "python",
   "name": "python3"
  },
  "language_info": {
   "codemirror_mode": {
    "name": "ipython",
    "version": 3
   },
   "file_extension": ".py",
   "mimetype": "text/x-python",
   "name": "python",
   "nbconvert_exporter": "python",
   "pygments_lexer": "ipython3",
   "version": "3.7.6"
  }
 },
 "nbformat": 4,
 "nbformat_minor": 2
}
